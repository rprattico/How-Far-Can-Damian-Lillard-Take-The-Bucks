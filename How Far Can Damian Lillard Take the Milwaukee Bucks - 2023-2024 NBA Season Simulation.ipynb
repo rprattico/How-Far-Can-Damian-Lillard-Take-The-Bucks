{
 "cells": [
  {
   "cell_type": "markdown",
   "metadata": {},
   "source": [
    "# How Far Can Damian Lillard Take the Milwaukee Bucks? - 2023-2024 NBA Season Simulation"
   ]
  },
  {
   "cell_type": "markdown",
   "metadata": {},
   "source": [
    "In this project, Monte Carlo Simulations as used to forecast the season outlook for the Milwaukee Bucks and predict the NBA Champion as of December 14, 2023"
   ]
  },
  {
   "cell_type": "code",
   "execution_count": 1,
   "metadata": {},
   "outputs": [],
   "source": [
    "import pandas as pd\n",
    "import numpy as np\n",
    "import matplotlib.pyplot as plt\n",
    "import random as rnd\n",
    "from scipy.stats import norm, skew\n",
    "from scipy import stats\n",
    "import statistics"
   ]
  },
  {
   "cell_type": "code",
   "execution_count": 2,
   "metadata": {},
   "outputs": [],
   "source": [
    "def DatasetSlicer(Team, dataset):\n",
    "    Team_masterdf=dataset[(dataset[\"Away Team\"]==Team) | (dataset[\"Home Team\"]==Team)].iloc[:,2:6]\n",
    "    \n",
    "    Team_df=pd.DataFrame(columns=[\"Team\", \"Opponent\", \"Team Points\", \"Opponent Points\"])\n",
    "    for game in range(len(Team_masterdf)):\n",
    "        if Team in Team_masterdf.iloc[game,0]:\n",
    "            Team_df.at[game,\"Team\"]=Team\n",
    "            Team_df.at[game, \"Opponent\"]=Team_masterdf.iloc[game,2]\n",
    "            Team_df.at[game, \"Team Points\"]=int(Team_masterdf.iloc[game,1])\n",
    "            Team_df.at[game, \"Opponent Points\"]=int(Team_masterdf.iloc[game,3])\n",
    "        elif Team in Team_masterdf.iloc[game,2]:\n",
    "            Team_df.at[game,\"Team\"]=Team\n",
    "            Team_df.at[game, \"Opponent\"]=Team_masterdf.iloc[game,0]\n",
    "            Team_df.at[game, \"Team Points\"]=int(Team_masterdf.iloc[game,3])\n",
    "            Team_df.at[game, \"Opponent Points\"]=int(Team_masterdf.iloc[game,1])\n",
    "    \n",
    "    return Team_df"
   ]
  },
  {
   "cell_type": "code",
   "execution_count": 3,
   "metadata": {},
   "outputs": [],
   "source": [
    "def DatasetTransformer(Team1_df, Team2_df):\n",
    "    Team1_df_TeamPoints=Team1_df[\"Team Points\"].astype(int) \n",
    "    Team1_df_OppPoints=Team1_df[\"Opponent Points\"].astype(int) \n",
    "    Team2_df_TeamPoints=Team2_df[\"Team Points\"].astype(int) \n",
    "    Team2_df_OppPoints=Team2_df[\"Opponent Points\"].astype(int) \n",
    "    \n",
    "    global datasets\n",
    "    global transformation\n",
    "    \n",
    "    datasets=[Team1_df_TeamPoints, Team1_df_OppPoints, Team2_df_TeamPoints, Team2_df_OppPoints]\n",
    "    names=[\"Team 1 Team Points\", \"Team 1 Opponent Points\", \"Team 2 Team Points\", \"Team 2 Opponent Points\"]\n",
    "    transformation_dict={0:\"log_team_t1_\",1:\"log_opp_t1_\",2:\"log_team_t2_\",3:\"log_opp_t2_\"}\n",
    "    transformation=\"\"\n",
    "    for ind, dataset in enumerate(datasets):\n",
    "        nd=shapiro_test(dataset, names[ind])\n",
    "        if nd==False:\n",
    "           # print(f\"In game {season_game_number}, {names[ind]} is not normally distributed\")\n",
    "            dataset=np.log(dataset)\n",
    "            datasets[ind]=dataset\n",
    "            transformation=transformation+transformation_dict[ind]\n",
    "        \n",
    "    #if transformation!=\"\":\n",
    "       # print(transformation)\n",
    "    return datasets, transformation\n",
    "                "
   ]
  },
  {
   "cell_type": "code",
   "execution_count": 4,
   "metadata": {},
   "outputs": [],
   "source": [
    "def gameSim(datasets, transformation):\n",
    "    global Team1_score\n",
    "    global Team2_score\n",
    "    \n",
    "    Team1_mean_points_for=round(datasets[0].mean(),2)\n",
    "    Team1_std_points_for=round(datasets[0].std(),2)\n",
    "\n",
    "    Team1_mean_points_against=round(datasets[1].mean(),2)\n",
    "    Team1_std_points_against=round(datasets[1].std(),2)\n",
    "    \n",
    "    Team2_mean_points_for=round(datasets[2].mean(),2)\n",
    "    Team2_std_points_for=round(datasets[2].std(),2)\n",
    "\n",
    "    Team2_mean_points_against=round(datasets[3].mean(),2)\n",
    "    Team2_std_points_against=round(datasets[3].std(),2)\n",
    "    \n",
    "    if transformation==\"log_team_t1_\":\n",
    "        Team1_score= (np.exp(rnd.gauss(Team1_mean_points_for,Team1_std_points_for))+rnd.gauss(Team2_mean_points_against,Team2_std_points_against))/2\n",
    "        Team2_score = (rnd.gauss(Team2_mean_points_for,Team2_std_points_for)+rnd.gauss(Team1_mean_points_against,Team1_std_points_against))/2\n",
    "   \n",
    "    elif transformation==\"log_opp_t1_\":\n",
    "        Team1_score= (rnd.gauss(Team1_mean_points_for,Team1_std_points_for)+rnd.gauss(Team2_mean_points_against,Team2_std_points_against))/2\n",
    "        Team2_score = (rnd.gauss(Team2_mean_points_for,Team2_std_points_for)+np.exp(rnd.gauss(Team1_mean_points_against,Team1_std_points_against)))/2\n",
    "   \n",
    "    elif transformation==\"log_team_t2_\":\n",
    "        Team1_score= (rnd.gauss(Team1_mean_points_for,Team1_std_points_for)+rnd.gauss(Team2_mean_points_against,Team2_std_points_against))/2\n",
    "        Team2_score = (np.exp(rnd.gauss(Team2_mean_points_for,Team2_std_points_for))+rnd.gauss(Team1_mean_points_against,Team1_std_points_against))/2\n",
    "   \n",
    "    elif transformation==\"log_opp_t2_\":\n",
    "        Team1_score= (rnd.gauss(Team1_mean_points_for,Team1_std_points_for)+np.exp(rnd.gauss(Team2_mean_points_against,Team2_std_points_against)))/2\n",
    "        Team2_score = (rnd.gauss(Team2_mean_points_for,Team2_std_points_for)+rnd.gauss(Team1_mean_points_against,Team1_std_points_against))/2\n",
    "\n",
    "    elif transformation==\"log_team_t1_log_opp_t2_\":\n",
    "        Team1_score= (np.exp(rnd.gauss(Team1_mean_points_for,Team1_std_points_for))+np.exp(rnd.gauss(Team2_mean_points_against,Team2_std_points_against)))/2\n",
    "        Team2_score = (rnd.gauss(Team2_mean_points_for,Team2_std_points_for)+rnd.gauss(Team1_mean_points_against,Team1_std_points_against))/2\n",
    "   \n",
    "    elif transformation==\"log_opp_t1_log_team_t2_\":\n",
    "        Team1_score= (rnd.gauss(Team1_mean_points_for,Team1_std_points_for)+rnd.gauss(Team2_mean_points_against,Team2_std_points_against))/2\n",
    "        Team2_score = (np.exp(rnd.gauss(Team2_mean_points_for,Team2_std_points_for))+np.exp(rnd.gauss(Team1_mean_points_against,Team1_std_points_against)))/2\n",
    "   \n",
    "    elif transformation==\"log_team_t1_log_team_t2_\":\n",
    "        Team1_score= (np.exp(rnd.gauss(Team1_mean_points_for,Team1_std_points_for))+rnd.gauss(Team2_mean_points_against,Team2_std_points_against))/2\n",
    "        Team2_score = (np.exp(rnd.gauss(Team2_mean_points_for,Team2_std_points_for))+rnd.gauss(Team1_mean_points_against,Team1_std_points_against))/2\n",
    "   \n",
    "    elif transformation==\"log_opp_t1_log_opp_t2_\":\n",
    "        Team1_score= (rnd.gauss(Team1_mean_points_for,Team1_std_points_for)+np.exp(rnd.gauss(Team2_mean_points_against,Team2_std_points_against)))/2\n",
    "        Team2_score = (rnd.gauss(Team2_mean_points_for,Team2_std_points_for)+np.exp(rnd.gauss(Team1_mean_points_against,Team1_std_points_against)))/2\n",
    "   \n",
    "    elif transformation==\"log_team_t1_log_opp_t1_log_team_t2_log_opp_t2_\":\n",
    "        Team1_score= (np.exp(rnd.gauss(Team1_mean_points_for,Team1_std_points_for))+np.exp(rnd.gauss(Team2_mean_points_against,Team2_std_points_against)))/2\n",
    "        Team2_score = (np.exp(rnd.gauss(Team2_mean_points_for,Team2_std_points_for))+np.exp(rnd.gauss(Team1_mean_points_against,Team1_std_points_against)))/2\n",
    "   \n",
    "    elif transformation==\"\":\n",
    "        Team1_score= (rnd.gauss(Team1_mean_points_for,Team1_std_points_for)+rnd.gauss(Team2_mean_points_against,Team2_std_points_against))/2\n",
    "        Team2_score = (rnd.gauss(Team2_mean_points_for,Team2_std_points_for)+rnd.gauss(Team1_mean_points_against,Team1_std_points_against))/2\n",
    "                      \n",
    "    if int(round(Team1_score)) > int(round(Team2_score)):\n",
    "        return 1\n",
    "    elif int(round(Team1_score)) < int(round(Team2_score)):\n",
    "        return -1\n",
    "    else: \n",
    "        return 0"
   ]
  },
  {
   "cell_type": "code",
   "execution_count": 5,
   "metadata": {},
   "outputs": [],
   "source": [
    "def SeriesSim(Team1, Team2, series,data):\n",
    "    Team1_df=DatasetSlicer(Team1, data)\n",
    "    Team2_df=DatasetSlicer(Team2,data)\n",
    "    \n",
    "    DatasetTransformer(Team1_df, Team2_df)\n",
    "    \n",
    "    Team1_game_scores = []\n",
    "    Team2_game_scores = []\n",
    "    for i in range(series):\n",
    "        game=gameSim(datasets, transformation)\n",
    "        Team1_game_scores.append(Team1_score)\n",
    "        Team2_game_scores.append(Team2_score)\n",
    "        \n",
    "    global ave_Team1_game_scores\n",
    "    global ave_Team2_game_scores\n",
    "    ave_Team1_game_scores=round(sum(Team1_game_scores)/len(Team1_game_scores))\n",
    "    ave_Team2_game_scores=round(sum(Team2_game_scores)/len(Team2_game_scores))\n",
    "\n",
    "    return Team1, ave_Team1_game_scores, Team2, ave_Team2_game_scores"
   ]
  },
  {
   "cell_type": "code",
   "execution_count": 6,
   "metadata": {},
   "outputs": [],
   "source": [
    "def shapiro_test(df, name=\"\"):\n",
    "    stat, p = stats.normaltest(df)\n",
    "    alpha = 0.05\n",
    "    \n",
    "    if p > alpha:\n",
    "        #print(f\"{name} looks normally distributed (fail to reject H0)\")\n",
    "        return True\n",
    "    else:\n",
    "        #print(f\"{name} does not look normally distributed (reject H0)\")\n",
    "        return False"
   ]
  },
  {
   "cell_type": "markdown",
   "metadata": {},
   "source": [
    "# Data Exploration"
   ]
  },
  {
   "cell_type": "code",
   "execution_count": 7,
   "metadata": {},
   "outputs": [],
   "source": [
    "eastern_conference_teams=['Boston Celtics', 'Washington Wizards', 'Atlanta Hawks', 'Detroit Pistons',  \n",
    "                          'Cleveland Cavaliers', 'Philadelphia 76ers',  'New York Knicks', 'Miami Heat', \n",
    "                          'Toronto Raptors', 'Brooklyn Nets', 'Orlando Magic','Chicago Bulls', 'Indiana Pacers',  \n",
    "                          'Milwaukee Bucks', 'Charlotte Hornets']\n",
    "\n",
    "western_conference_teams=['Los Angeles Lakers', 'Phoenix Suns', 'Houston Rockets', 'Minnesota Timberwolves', \n",
    "                          'New Orleans Pelicans', 'Oklahoma City Thunder', 'Sacramento Kings', 'Dallas Mavericks', \n",
    "                          'Portland Trail Blazers', 'Denver Nuggets','Los Angeles Clippers', 'Golden State Warriors', \n",
    "                          'Memphis Grizzlies','Utah Jazz', 'San Antonio Spurs']"
   ]
  },
  {
   "cell_type": "code",
   "execution_count": 8,
   "metadata": {},
   "outputs": [],
   "source": [
    "master_game_list=pd.read_csv(\"C:/Users/rprat/OneDrive/Documents/Youtube/How Far Can Damian Lillard Take The Bucks/Project Data/2023-2024 NBA Schedule - Played and Unplayed Games.csv\")"
   ]
  },
  {
   "cell_type": "code",
   "execution_count": 9,
   "metadata": {},
   "outputs": [],
   "source": [
    "played_games=master_game_list.iloc[0:348,:].reset_index(drop=True)\n",
    "unplayed_games=master_game_list.iloc[348:,:].reset_index(drop=True)"
   ]
  },
  {
   "cell_type": "code",
   "execution_count": 10,
   "metadata": {},
   "outputs": [
    {
     "data": {
      "text/html": [
       "<div>\n",
       "<style scoped>\n",
       "    .dataframe tbody tr th:only-of-type {\n",
       "        vertical-align: middle;\n",
       "    }\n",
       "\n",
       "    .dataframe tbody tr th {\n",
       "        vertical-align: top;\n",
       "    }\n",
       "\n",
       "    .dataframe thead th {\n",
       "        text-align: right;\n",
       "    }\n",
       "</style>\n",
       "<table border=\"1\" class=\"dataframe\">\n",
       "  <thead>\n",
       "    <tr style=\"text-align: right;\">\n",
       "      <th></th>\n",
       "      <th>Date</th>\n",
       "      <th>Start (ET)</th>\n",
       "      <th>Away Team</th>\n",
       "      <th>Away PTS</th>\n",
       "      <th>Home Team</th>\n",
       "      <th>Home PTS</th>\n",
       "      <th>Arena</th>\n",
       "      <th>Notes</th>\n",
       "    </tr>\n",
       "  </thead>\n",
       "  <tbody>\n",
       "    <tr>\n",
       "      <th>0</th>\n",
       "      <td>Tue, Oct 24, 2023</td>\n",
       "      <td>7:30p</td>\n",
       "      <td>Los Angeles Lakers</td>\n",
       "      <td>107.0</td>\n",
       "      <td>Denver Nuggets</td>\n",
       "      <td>119.0</td>\n",
       "      <td>Ball Arena</td>\n",
       "      <td>NaN</td>\n",
       "    </tr>\n",
       "    <tr>\n",
       "      <th>1</th>\n",
       "      <td>Tue, Oct 24, 2023</td>\n",
       "      <td>10:00p</td>\n",
       "      <td>Phoenix Suns</td>\n",
       "      <td>108.0</td>\n",
       "      <td>Golden State Warriors</td>\n",
       "      <td>104.0</td>\n",
       "      <td>Chase Center</td>\n",
       "      <td>NaN</td>\n",
       "    </tr>\n",
       "    <tr>\n",
       "      <th>2</th>\n",
       "      <td>Wed, Oct 25, 2023</td>\n",
       "      <td>7:00p</td>\n",
       "      <td>Houston Rockets</td>\n",
       "      <td>86.0</td>\n",
       "      <td>Orlando Magic</td>\n",
       "      <td>116.0</td>\n",
       "      <td>Amway Center</td>\n",
       "      <td>NaN</td>\n",
       "    </tr>\n",
       "    <tr>\n",
       "      <th>3</th>\n",
       "      <td>Wed, Oct 25, 2023</td>\n",
       "      <td>7:00p</td>\n",
       "      <td>Boston Celtics</td>\n",
       "      <td>108.0</td>\n",
       "      <td>New York Knicks</td>\n",
       "      <td>104.0</td>\n",
       "      <td>Madison Square Garden (IV)</td>\n",
       "      <td>NaN</td>\n",
       "    </tr>\n",
       "    <tr>\n",
       "      <th>4</th>\n",
       "      <td>Wed, Oct 25, 2023</td>\n",
       "      <td>7:00p</td>\n",
       "      <td>Washington Wizards</td>\n",
       "      <td>120.0</td>\n",
       "      <td>Indiana Pacers</td>\n",
       "      <td>143.0</td>\n",
       "      <td>Gainbridge Fieldhouse</td>\n",
       "      <td>NaN</td>\n",
       "    </tr>\n",
       "    <tr>\n",
       "      <th>...</th>\n",
       "      <td>...</td>\n",
       "      <td>...</td>\n",
       "      <td>...</td>\n",
       "      <td>...</td>\n",
       "      <td>...</td>\n",
       "      <td>...</td>\n",
       "      <td>...</td>\n",
       "      <td>...</td>\n",
       "    </tr>\n",
       "    <tr>\n",
       "      <th>343</th>\n",
       "      <td>Wed, Dec 13, 2023</td>\n",
       "      <td>8:00p</td>\n",
       "      <td>Memphis Grizzlies</td>\n",
       "      <td>104.0</td>\n",
       "      <td>Houston Rockets</td>\n",
       "      <td>117.0</td>\n",
       "      <td>Toyota Center</td>\n",
       "      <td>NaN</td>\n",
       "    </tr>\n",
       "    <tr>\n",
       "      <th>344</th>\n",
       "      <td>Wed, Dec 13, 2023</td>\n",
       "      <td>8:00p</td>\n",
       "      <td>Indiana Pacers</td>\n",
       "      <td>126.0</td>\n",
       "      <td>Milwaukee Bucks</td>\n",
       "      <td>140.0</td>\n",
       "      <td>Fiserv Forum</td>\n",
       "      <td>NaN</td>\n",
       "    </tr>\n",
       "    <tr>\n",
       "      <th>345</th>\n",
       "      <td>Wed, Dec 13, 2023</td>\n",
       "      <td>8:00p</td>\n",
       "      <td>Los Angeles Lakers</td>\n",
       "      <td>122.0</td>\n",
       "      <td>San Antonio Spurs</td>\n",
       "      <td>119.0</td>\n",
       "      <td>Frost Bank Center</td>\n",
       "      <td>NaN</td>\n",
       "    </tr>\n",
       "    <tr>\n",
       "      <th>346</th>\n",
       "      <td>Wed, Dec 13, 2023</td>\n",
       "      <td>9:00p</td>\n",
       "      <td>Brooklyn Nets</td>\n",
       "      <td>116.0</td>\n",
       "      <td>Phoenix Suns</td>\n",
       "      <td>112.0</td>\n",
       "      <td>Footprint Center</td>\n",
       "      <td>NaN</td>\n",
       "    </tr>\n",
       "    <tr>\n",
       "      <th>347</th>\n",
       "      <td>Wed, Dec 13, 2023</td>\n",
       "      <td>9:00p</td>\n",
       "      <td>New York Knicks</td>\n",
       "      <td>113.0</td>\n",
       "      <td>Utah Jazz</td>\n",
       "      <td>117.0</td>\n",
       "      <td>Delta Center</td>\n",
       "      <td>NaN</td>\n",
       "    </tr>\n",
       "  </tbody>\n",
       "</table>\n",
       "<p>348 rows × 8 columns</p>\n",
       "</div>"
      ],
      "text/plain": [
       "                  Date Start (ET)           Away Team  Away PTS  \\\n",
       "0    Tue, Oct 24, 2023      7:30p  Los Angeles Lakers     107.0   \n",
       "1    Tue, Oct 24, 2023     10:00p        Phoenix Suns     108.0   \n",
       "2    Wed, Oct 25, 2023      7:00p     Houston Rockets      86.0   \n",
       "3    Wed, Oct 25, 2023      7:00p      Boston Celtics     108.0   \n",
       "4    Wed, Oct 25, 2023      7:00p  Washington Wizards     120.0   \n",
       "..                 ...        ...                 ...       ...   \n",
       "343  Wed, Dec 13, 2023      8:00p   Memphis Grizzlies     104.0   \n",
       "344  Wed, Dec 13, 2023      8:00p      Indiana Pacers     126.0   \n",
       "345  Wed, Dec 13, 2023      8:00p  Los Angeles Lakers     122.0   \n",
       "346  Wed, Dec 13, 2023      9:00p       Brooklyn Nets     116.0   \n",
       "347  Wed, Dec 13, 2023      9:00p     New York Knicks     113.0   \n",
       "\n",
       "                 Home Team  Home PTS                       Arena Notes  \n",
       "0           Denver Nuggets     119.0                  Ball Arena   NaN  \n",
       "1    Golden State Warriors     104.0                Chase Center   NaN  \n",
       "2            Orlando Magic     116.0                Amway Center   NaN  \n",
       "3          New York Knicks     104.0  Madison Square Garden (IV)   NaN  \n",
       "4           Indiana Pacers     143.0       Gainbridge Fieldhouse   NaN  \n",
       "..                     ...       ...                         ...   ...  \n",
       "343        Houston Rockets     117.0               Toyota Center   NaN  \n",
       "344        Milwaukee Bucks     140.0                Fiserv Forum   NaN  \n",
       "345      San Antonio Spurs     119.0           Frost Bank Center   NaN  \n",
       "346           Phoenix Suns     112.0            Footprint Center   NaN  \n",
       "347              Utah Jazz     117.0                Delta Center   NaN  \n",
       "\n",
       "[348 rows x 8 columns]"
      ]
     },
     "execution_count": 10,
     "metadata": {},
     "output_type": "execute_result"
    }
   ],
   "source": [
    "played_games"
   ]
  },
  {
   "cell_type": "code",
   "execution_count": 11,
   "metadata": {},
   "outputs": [
    {
     "name": "stdout",
     "output_type": "stream",
     "text": [
      "Each team has played roughly 23 games so far.\n",
      "The Milwaukee Bucks have played 24 games so far.\n",
      "30.0 % of the NBA season completed.\n"
     ]
    }
   ],
   "source": [
    "bucks_played_games=len(played_games[(played_games[\"Away Team\"]==\"Milwaukee Bucks\")|(played_games[\"Home Team\"]==\"Milwaukee Bucks\")])\n",
    "\n",
    "played_games_per_team=[]\n",
    "for i in list(played_games[\"Away Team\"].unique()):\n",
    "    team_played_games=len(played_games[(played_games[\"Away Team\"]==i)|(played_games[\"Home Team\"]==i)])\n",
    "    played_games_per_team.append(team_played_games)\n",
    "\n",
    "print(f\"Each team has played roughly\", round(sum(played_games_per_team)/len(played_games_per_team)),\"games so far.\")\n",
    "print(f\"The Milwaukee Bucks have played\", bucks_played_games,\"games so far.\")\n",
    "print(round((bucks_played_games/80)*100,2),\"% of the NBA season completed.\")"
   ]
  },
  {
   "cell_type": "code",
   "execution_count": 12,
   "metadata": {},
   "outputs": [
    {
     "data": {
      "text/html": [
       "<div>\n",
       "<style scoped>\n",
       "    .dataframe tbody tr th:only-of-type {\n",
       "        vertical-align: middle;\n",
       "    }\n",
       "\n",
       "    .dataframe tbody tr th {\n",
       "        vertical-align: top;\n",
       "    }\n",
       "\n",
       "    .dataframe thead th {\n",
       "        text-align: right;\n",
       "    }\n",
       "</style>\n",
       "<table border=\"1\" class=\"dataframe\">\n",
       "  <thead>\n",
       "    <tr style=\"text-align: right;\">\n",
       "      <th></th>\n",
       "      <th>Team</th>\n",
       "      <th>W</th>\n",
       "      <th>L</th>\n",
       "      <th>%</th>\n",
       "    </tr>\n",
       "  </thead>\n",
       "  <tbody>\n",
       "    <tr>\n",
       "      <th>0</th>\n",
       "      <td>Boston Celtics</td>\n",
       "      <td>17</td>\n",
       "      <td>5</td>\n",
       "      <td>0.772727</td>\n",
       "    </tr>\n",
       "    <tr>\n",
       "      <th>1</th>\n",
       "      <td>Milwaukee Bucks</td>\n",
       "      <td>17</td>\n",
       "      <td>7</td>\n",
       "      <td>0.708333</td>\n",
       "    </tr>\n",
       "    <tr>\n",
       "      <th>2</th>\n",
       "      <td>Philadelphia 76ers</td>\n",
       "      <td>16</td>\n",
       "      <td>7</td>\n",
       "      <td>0.695652</td>\n",
       "    </tr>\n",
       "    <tr>\n",
       "      <th>3</th>\n",
       "      <td>Orlando Magic</td>\n",
       "      <td>16</td>\n",
       "      <td>7</td>\n",
       "      <td>0.695652</td>\n",
       "    </tr>\n",
       "    <tr>\n",
       "      <th>4</th>\n",
       "      <td>Indiana Pacers</td>\n",
       "      <td>13</td>\n",
       "      <td>9</td>\n",
       "      <td>0.590909</td>\n",
       "    </tr>\n",
       "    <tr>\n",
       "      <th>5</th>\n",
       "      <td>Miami Heat</td>\n",
       "      <td>14</td>\n",
       "      <td>10</td>\n",
       "      <td>0.583333</td>\n",
       "    </tr>\n",
       "    <tr>\n",
       "      <th>6</th>\n",
       "      <td>New York Knicks</td>\n",
       "      <td>13</td>\n",
       "      <td>10</td>\n",
       "      <td>0.565217</td>\n",
       "    </tr>\n",
       "    <tr>\n",
       "      <th>7</th>\n",
       "      <td>Brooklyn Nets</td>\n",
       "      <td>13</td>\n",
       "      <td>10</td>\n",
       "      <td>0.565217</td>\n",
       "    </tr>\n",
       "    <tr>\n",
       "      <th>8</th>\n",
       "      <td>Cleveland Cavaliers</td>\n",
       "      <td>13</td>\n",
       "      <td>11</td>\n",
       "      <td>0.541667</td>\n",
       "    </tr>\n",
       "    <tr>\n",
       "      <th>9</th>\n",
       "      <td>Toronto Raptors</td>\n",
       "      <td>10</td>\n",
       "      <td>14</td>\n",
       "      <td>0.416667</td>\n",
       "    </tr>\n",
       "    <tr>\n",
       "      <th>10</th>\n",
       "      <td>Atlanta Hawks</td>\n",
       "      <td>9</td>\n",
       "      <td>14</td>\n",
       "      <td>0.391304</td>\n",
       "    </tr>\n",
       "    <tr>\n",
       "      <th>11</th>\n",
       "      <td>Chicago Bulls</td>\n",
       "      <td>9</td>\n",
       "      <td>16</td>\n",
       "      <td>0.360000</td>\n",
       "    </tr>\n",
       "    <tr>\n",
       "      <th>12</th>\n",
       "      <td>Charlotte Hornets</td>\n",
       "      <td>7</td>\n",
       "      <td>15</td>\n",
       "      <td>0.318182</td>\n",
       "    </tr>\n",
       "    <tr>\n",
       "      <th>13</th>\n",
       "      <td>Washington Wizards</td>\n",
       "      <td>3</td>\n",
       "      <td>20</td>\n",
       "      <td>0.130435</td>\n",
       "    </tr>\n",
       "    <tr>\n",
       "      <th>14</th>\n",
       "      <td>Detroit Pistons</td>\n",
       "      <td>2</td>\n",
       "      <td>22</td>\n",
       "      <td>0.083333</td>\n",
       "    </tr>\n",
       "  </tbody>\n",
       "</table>\n",
       "</div>"
      ],
      "text/plain": [
       "                   Team   W   L         %\n",
       "0        Boston Celtics  17   5  0.772727\n",
       "1       Milwaukee Bucks  17   7  0.708333\n",
       "2    Philadelphia 76ers  16   7  0.695652\n",
       "3         Orlando Magic  16   7  0.695652\n",
       "4        Indiana Pacers  13   9  0.590909\n",
       "5            Miami Heat  14  10  0.583333\n",
       "6       New York Knicks  13  10  0.565217\n",
       "7         Brooklyn Nets  13  10  0.565217\n",
       "8   Cleveland Cavaliers  13  11  0.541667\n",
       "9       Toronto Raptors  10  14  0.416667\n",
       "10        Atlanta Hawks   9  14  0.391304\n",
       "11        Chicago Bulls   9  16  0.360000\n",
       "12    Charlotte Hornets   7  15  0.318182\n",
       "13   Washington Wizards   3  20  0.130435\n",
       "14      Detroit Pistons   2  22  0.083333"
      ]
     },
     "execution_count": 12,
     "metadata": {},
     "output_type": "execute_result"
    }
   ],
   "source": [
    "#Eastern Current Standings\n",
    "eastern_conference_standings=pd.DataFrame(columns=[\"Team\",\"W\",\"L\",\"%\"])\n",
    "for team in eastern_conference_teams:\n",
    "    team_win_count=0\n",
    "    Team_df_played_season=DatasetSlicer(team, played_games)\n",
    "    for i in range(len(Team_df_played_season)):\n",
    "        if Team_df_played_season.iloc[i,2]>Team_df_played_season.iloc[i,3]:\n",
    "            team_win_count+=1\n",
    "    win_percentage=team_win_count/len(Team_df_played_season)\n",
    "    row=[team, team_win_count, len(Team_df_played_season)-team_win_count, win_percentage]\n",
    "    eastern_conference_standings.loc[len(eastern_conference_standings)]=row\n",
    "    \n",
    "eastern_conference_standings=eastern_conference_standings.sort_values(\"%\", ascending=False)\n",
    "eastern_conference_standings.reset_index(drop=True)"
   ]
  },
  {
   "cell_type": "code",
   "execution_count": 13,
   "metadata": {},
   "outputs": [
    {
     "data": {
      "text/html": [
       "<div>\n",
       "<style scoped>\n",
       "    .dataframe tbody tr th:only-of-type {\n",
       "        vertical-align: middle;\n",
       "    }\n",
       "\n",
       "    .dataframe tbody tr th {\n",
       "        vertical-align: top;\n",
       "    }\n",
       "\n",
       "    .dataframe thead th {\n",
       "        text-align: right;\n",
       "    }\n",
       "</style>\n",
       "<table border=\"1\" class=\"dataframe\">\n",
       "  <thead>\n",
       "    <tr style=\"text-align: right;\">\n",
       "      <th></th>\n",
       "      <th>Team</th>\n",
       "      <th>W</th>\n",
       "      <th>L</th>\n",
       "      <th>%</th>\n",
       "    </tr>\n",
       "  </thead>\n",
       "  <tbody>\n",
       "    <tr>\n",
       "      <th>0</th>\n",
       "      <td>Minnesota Timberwolves</td>\n",
       "      <td>17</td>\n",
       "      <td>5</td>\n",
       "      <td>0.772727</td>\n",
       "    </tr>\n",
       "    <tr>\n",
       "      <th>1</th>\n",
       "      <td>Oklahoma City Thunder</td>\n",
       "      <td>15</td>\n",
       "      <td>7</td>\n",
       "      <td>0.681818</td>\n",
       "    </tr>\n",
       "    <tr>\n",
       "      <th>2</th>\n",
       "      <td>Dallas Mavericks</td>\n",
       "      <td>15</td>\n",
       "      <td>8</td>\n",
       "      <td>0.652174</td>\n",
       "    </tr>\n",
       "    <tr>\n",
       "      <th>3</th>\n",
       "      <td>Denver Nuggets</td>\n",
       "      <td>16</td>\n",
       "      <td>9</td>\n",
       "      <td>0.640000</td>\n",
       "    </tr>\n",
       "    <tr>\n",
       "      <th>4</th>\n",
       "      <td>Los Angeles Lakers</td>\n",
       "      <td>15</td>\n",
       "      <td>10</td>\n",
       "      <td>0.600000</td>\n",
       "    </tr>\n",
       "    <tr>\n",
       "      <th>5</th>\n",
       "      <td>Sacramento Kings</td>\n",
       "      <td>13</td>\n",
       "      <td>9</td>\n",
       "      <td>0.590909</td>\n",
       "    </tr>\n",
       "    <tr>\n",
       "      <th>6</th>\n",
       "      <td>Houston Rockets</td>\n",
       "      <td>12</td>\n",
       "      <td>9</td>\n",
       "      <td>0.571429</td>\n",
       "    </tr>\n",
       "    <tr>\n",
       "      <th>7</th>\n",
       "      <td>Los Angeles Clippers</td>\n",
       "      <td>13</td>\n",
       "      <td>10</td>\n",
       "      <td>0.565217</td>\n",
       "    </tr>\n",
       "    <tr>\n",
       "      <th>8</th>\n",
       "      <td>New Orleans Pelicans</td>\n",
       "      <td>14</td>\n",
       "      <td>11</td>\n",
       "      <td>0.560000</td>\n",
       "    </tr>\n",
       "    <tr>\n",
       "      <th>9</th>\n",
       "      <td>Phoenix Suns</td>\n",
       "      <td>13</td>\n",
       "      <td>11</td>\n",
       "      <td>0.541667</td>\n",
       "    </tr>\n",
       "    <tr>\n",
       "      <th>10</th>\n",
       "      <td>Golden State Warriors</td>\n",
       "      <td>10</td>\n",
       "      <td>13</td>\n",
       "      <td>0.434783</td>\n",
       "    </tr>\n",
       "    <tr>\n",
       "      <th>11</th>\n",
       "      <td>Utah Jazz</td>\n",
       "      <td>8</td>\n",
       "      <td>16</td>\n",
       "      <td>0.333333</td>\n",
       "    </tr>\n",
       "    <tr>\n",
       "      <th>12</th>\n",
       "      <td>Portland Trail Blazers</td>\n",
       "      <td>6</td>\n",
       "      <td>16</td>\n",
       "      <td>0.272727</td>\n",
       "    </tr>\n",
       "    <tr>\n",
       "      <th>13</th>\n",
       "      <td>Memphis Grizzlies</td>\n",
       "      <td>6</td>\n",
       "      <td>17</td>\n",
       "      <td>0.260870</td>\n",
       "    </tr>\n",
       "    <tr>\n",
       "      <th>14</th>\n",
       "      <td>San Antonio Spurs</td>\n",
       "      <td>3</td>\n",
       "      <td>20</td>\n",
       "      <td>0.130435</td>\n",
       "    </tr>\n",
       "  </tbody>\n",
       "</table>\n",
       "</div>"
      ],
      "text/plain": [
       "                      Team   W   L         %\n",
       "0   Minnesota Timberwolves  17   5  0.772727\n",
       "1    Oklahoma City Thunder  15   7  0.681818\n",
       "2         Dallas Mavericks  15   8  0.652174\n",
       "3           Denver Nuggets  16   9  0.640000\n",
       "4       Los Angeles Lakers  15  10  0.600000\n",
       "5         Sacramento Kings  13   9  0.590909\n",
       "6          Houston Rockets  12   9  0.571429\n",
       "7     Los Angeles Clippers  13  10  0.565217\n",
       "8     New Orleans Pelicans  14  11  0.560000\n",
       "9             Phoenix Suns  13  11  0.541667\n",
       "10   Golden State Warriors  10  13  0.434783\n",
       "11               Utah Jazz   8  16  0.333333\n",
       "12  Portland Trail Blazers   6  16  0.272727\n",
       "13       Memphis Grizzlies   6  17  0.260870\n",
       "14       San Antonio Spurs   3  20  0.130435"
      ]
     },
     "execution_count": 13,
     "metadata": {},
     "output_type": "execute_result"
    }
   ],
   "source": [
    "#Western Current Standings\n",
    "western_conference_standings=pd.DataFrame(columns=[\"Team\",\"W\",\"L\",\"%\"])\n",
    "for team in western_conference_teams:\n",
    "    team_win_count=0\n",
    "    Team_df_played_season=DatasetSlicer(team, played_games)\n",
    "    for i in range(len(Team_df_played_season)):\n",
    "        if Team_df_played_season.iloc[i,2]>Team_df_played_season.iloc[i,3]:\n",
    "            team_win_count+=1\n",
    "    win_percentage=team_win_count/len(Team_df_played_season)\n",
    "    row=[team, team_win_count, len(Team_df_played_season)-team_win_count, win_percentage]\n",
    "    western_conference_standings.loc[len(western_conference_standings)]=row\n",
    "    \n",
    "western_conference_standings=western_conference_standings.sort_values(\"%\", ascending=False)\n",
    "western_conference_standings.reset_index(drop=True)"
   ]
  },
  {
   "cell_type": "code",
   "execution_count": 14,
   "metadata": {},
   "outputs": [
    {
     "data": {
      "text/html": [
       "<div>\n",
       "<style scoped>\n",
       "    .dataframe tbody tr th:only-of-type {\n",
       "        vertical-align: middle;\n",
       "    }\n",
       "\n",
       "    .dataframe tbody tr th {\n",
       "        vertical-align: top;\n",
       "    }\n",
       "\n",
       "    .dataframe thead th {\n",
       "        text-align: right;\n",
       "    }\n",
       "</style>\n",
       "<table border=\"1\" class=\"dataframe\">\n",
       "  <thead>\n",
       "    <tr style=\"text-align: right;\">\n",
       "      <th></th>\n",
       "      <th>Date</th>\n",
       "      <th>Start (ET)</th>\n",
       "      <th>Away Team</th>\n",
       "      <th>Away PTS</th>\n",
       "      <th>Home Team</th>\n",
       "      <th>Home PTS</th>\n",
       "      <th>Arena</th>\n",
       "      <th>Notes</th>\n",
       "    </tr>\n",
       "  </thead>\n",
       "  <tbody>\n",
       "    <tr>\n",
       "      <th>14</th>\n",
       "      <td>Thu, Oct 26, 2023</td>\n",
       "      <td>7:30p</td>\n",
       "      <td>Philadelphia 76ers</td>\n",
       "      <td>117.0</td>\n",
       "      <td>Milwaukee Bucks</td>\n",
       "      <td>118.0</td>\n",
       "      <td>Fiserv Forum</td>\n",
       "      <td>NaN</td>\n",
       "    </tr>\n",
       "    <tr>\n",
       "      <th>36</th>\n",
       "      <td>Sun, Oct 29, 2023</td>\n",
       "      <td>7:00p</td>\n",
       "      <td>Atlanta Hawks</td>\n",
       "      <td>127.0</td>\n",
       "      <td>Milwaukee Bucks</td>\n",
       "      <td>110.0</td>\n",
       "      <td>Fiserv Forum</td>\n",
       "      <td>NaN</td>\n",
       "    </tr>\n",
       "    <tr>\n",
       "      <th>46</th>\n",
       "      <td>Mon, Oct 30, 2023</td>\n",
       "      <td>8:00p</td>\n",
       "      <td>Miami Heat</td>\n",
       "      <td>114.0</td>\n",
       "      <td>Milwaukee Bucks</td>\n",
       "      <td>122.0</td>\n",
       "      <td>Fiserv Forum</td>\n",
       "      <td>NaN</td>\n",
       "    </tr>\n",
       "    <tr>\n",
       "      <th>55</th>\n",
       "      <td>Wed, Nov 1, 2023</td>\n",
       "      <td>7:00p</td>\n",
       "      <td>Milwaukee Bucks</td>\n",
       "      <td>111.0</td>\n",
       "      <td>Toronto Raptors</td>\n",
       "      <td>130.0</td>\n",
       "      <td>Scotiabank Arena</td>\n",
       "      <td>NaN</td>\n",
       "    </tr>\n",
       "    <tr>\n",
       "      <th>72</th>\n",
       "      <td>Fri, Nov 3, 2023</td>\n",
       "      <td>7:30p</td>\n",
       "      <td>New York Knicks</td>\n",
       "      <td>105.0</td>\n",
       "      <td>Milwaukee Bucks</td>\n",
       "      <td>110.0</td>\n",
       "      <td>Fiserv Forum</td>\n",
       "      <td>In-Season Tournament</td>\n",
       "    </tr>\n",
       "    <tr>\n",
       "      <th>95</th>\n",
       "      <td>Mon, Nov 6, 2023</td>\n",
       "      <td>7:30p</td>\n",
       "      <td>Milwaukee Bucks</td>\n",
       "      <td>129.0</td>\n",
       "      <td>Brooklyn Nets</td>\n",
       "      <td>125.0</td>\n",
       "      <td>Barclays Center</td>\n",
       "      <td>NaN</td>\n",
       "    </tr>\n",
       "    <tr>\n",
       "      <th>111</th>\n",
       "      <td>Wed, Nov 8, 2023</td>\n",
       "      <td>8:00p</td>\n",
       "      <td>Detroit Pistons</td>\n",
       "      <td>118.0</td>\n",
       "      <td>Milwaukee Bucks</td>\n",
       "      <td>120.0</td>\n",
       "      <td>Fiserv Forum</td>\n",
       "      <td>NaN</td>\n",
       "    </tr>\n",
       "    <tr>\n",
       "      <th>117</th>\n",
       "      <td>Thu, Nov 9, 2023</td>\n",
       "      <td>7:00p</td>\n",
       "      <td>Milwaukee Bucks</td>\n",
       "      <td>124.0</td>\n",
       "      <td>Indiana Pacers</td>\n",
       "      <td>126.0</td>\n",
       "      <td>Gainbridge Fieldhouse</td>\n",
       "      <td>NaN</td>\n",
       "    </tr>\n",
       "    <tr>\n",
       "      <th>128</th>\n",
       "      <td>Sat, Nov 11, 2023</td>\n",
       "      <td>6:00p</td>\n",
       "      <td>Milwaukee Bucks</td>\n",
       "      <td>97.0</td>\n",
       "      <td>Orlando Magic</td>\n",
       "      <td>112.0</td>\n",
       "      <td>Amway Center</td>\n",
       "      <td>NaN</td>\n",
       "    </tr>\n",
       "    <tr>\n",
       "      <th>145</th>\n",
       "      <td>Mon, Nov 13, 2023</td>\n",
       "      <td>8:00p</td>\n",
       "      <td>Chicago Bulls</td>\n",
       "      <td>109.0</td>\n",
       "      <td>Milwaukee Bucks</td>\n",
       "      <td>118.0</td>\n",
       "      <td>Fiserv Forum</td>\n",
       "      <td>NaN</td>\n",
       "    </tr>\n",
       "    <tr>\n",
       "      <th>160</th>\n",
       "      <td>Wed, Nov 15, 2023</td>\n",
       "      <td>7:30p</td>\n",
       "      <td>Milwaukee Bucks</td>\n",
       "      <td>128.0</td>\n",
       "      <td>Toronto Raptors</td>\n",
       "      <td>112.0</td>\n",
       "      <td>Scotiabank Arena</td>\n",
       "      <td>NaN</td>\n",
       "    </tr>\n",
       "    <tr>\n",
       "      <th>167</th>\n",
       "      <td>Fri, Nov 17, 2023</td>\n",
       "      <td>7:00p</td>\n",
       "      <td>Milwaukee Bucks</td>\n",
       "      <td>130.0</td>\n",
       "      <td>Charlotte Hornets</td>\n",
       "      <td>99.0</td>\n",
       "      <td>Spectrum Center</td>\n",
       "      <td>In-Season Tournament</td>\n",
       "    </tr>\n",
       "    <tr>\n",
       "      <th>181</th>\n",
       "      <td>Sat, Nov 18, 2023</td>\n",
       "      <td>8:00p</td>\n",
       "      <td>Dallas Mavericks</td>\n",
       "      <td>125.0</td>\n",
       "      <td>Milwaukee Bucks</td>\n",
       "      <td>132.0</td>\n",
       "      <td>Fiserv Forum</td>\n",
       "      <td>NaN</td>\n",
       "    </tr>\n",
       "    <tr>\n",
       "      <th>195</th>\n",
       "      <td>Mon, Nov 20, 2023</td>\n",
       "      <td>7:00p</td>\n",
       "      <td>Milwaukee Bucks</td>\n",
       "      <td>142.0</td>\n",
       "      <td>Washington Wizards</td>\n",
       "      <td>129.0</td>\n",
       "      <td>Capital One Arena</td>\n",
       "      <td>NaN</td>\n",
       "    </tr>\n",
       "    <tr>\n",
       "      <th>209</th>\n",
       "      <td>Wed, Nov 22, 2023</td>\n",
       "      <td>7:30p</td>\n",
       "      <td>Milwaukee Bucks</td>\n",
       "      <td>116.0</td>\n",
       "      <td>Boston Celtics</td>\n",
       "      <td>119.0</td>\n",
       "      <td>TD Garden</td>\n",
       "      <td>NaN</td>\n",
       "    </tr>\n",
       "    <tr>\n",
       "      <th>226</th>\n",
       "      <td>Fri, Nov 24, 2023</td>\n",
       "      <td>8:00p</td>\n",
       "      <td>Washington Wizards</td>\n",
       "      <td>128.0</td>\n",
       "      <td>Milwaukee Bucks</td>\n",
       "      <td>131.0</td>\n",
       "      <td>Fiserv Forum</td>\n",
       "      <td>In-Season Tournament</td>\n",
       "    </tr>\n",
       "    <tr>\n",
       "      <th>236</th>\n",
       "      <td>Sun, Nov 26, 2023</td>\n",
       "      <td>3:30p</td>\n",
       "      <td>Portland Trail Blazers</td>\n",
       "      <td>102.0</td>\n",
       "      <td>Milwaukee Bucks</td>\n",
       "      <td>108.0</td>\n",
       "      <td>Fiserv Forum</td>\n",
       "      <td>NaN</td>\n",
       "    </tr>\n",
       "    <tr>\n",
       "      <th>252</th>\n",
       "      <td>Tue, Nov 28, 2023</td>\n",
       "      <td>7:30p</td>\n",
       "      <td>Milwaukee Bucks</td>\n",
       "      <td>131.0</td>\n",
       "      <td>Miami Heat</td>\n",
       "      <td>124.0</td>\n",
       "      <td>Kaseya Center</td>\n",
       "      <td>In-Season Tournament</td>\n",
       "    </tr>\n",
       "    <tr>\n",
       "      <th>268</th>\n",
       "      <td>Thu, Nov 30, 2023</td>\n",
       "      <td>8:00p</td>\n",
       "      <td>Milwaukee Bucks</td>\n",
       "      <td>113.0</td>\n",
       "      <td>Chicago Bulls</td>\n",
       "      <td>120.0</td>\n",
       "      <td>United Center</td>\n",
       "      <td>NaN</td>\n",
       "    </tr>\n",
       "    <tr>\n",
       "      <th>285</th>\n",
       "      <td>Sat, Dec 2, 2023</td>\n",
       "      <td>8:00p</td>\n",
       "      <td>Atlanta Hawks</td>\n",
       "      <td>121.0</td>\n",
       "      <td>Milwaukee Bucks</td>\n",
       "      <td>132.0</td>\n",
       "      <td>Fiserv Forum</td>\n",
       "      <td>NaN</td>\n",
       "    </tr>\n",
       "    <tr>\n",
       "      <th>293</th>\n",
       "      <td>Tue, Dec 5, 2023</td>\n",
       "      <td>7:30p</td>\n",
       "      <td>New York Knicks</td>\n",
       "      <td>122.0</td>\n",
       "      <td>Milwaukee Bucks</td>\n",
       "      <td>146.0</td>\n",
       "      <td>Fiserv Forum</td>\n",
       "      <td>In-Season Tournament</td>\n",
       "    </tr>\n",
       "    <tr>\n",
       "      <th>306</th>\n",
       "      <td>Thu, Dec 7, 2023</td>\n",
       "      <td>5:00p</td>\n",
       "      <td>Indiana Pacers</td>\n",
       "      <td>128.0</td>\n",
       "      <td>Milwaukee Bucks</td>\n",
       "      <td>119.0</td>\n",
       "      <td>T-Mobile Arena</td>\n",
       "      <td>In-Season Tournament</td>\n",
       "    </tr>\n",
       "    <tr>\n",
       "      <th>329</th>\n",
       "      <td>Mon, Dec 11, 2023</td>\n",
       "      <td>8:00p</td>\n",
       "      <td>Chicago Bulls</td>\n",
       "      <td>129.0</td>\n",
       "      <td>Milwaukee Bucks</td>\n",
       "      <td>133.0</td>\n",
       "      <td>Fiserv Forum</td>\n",
       "      <td>NaN</td>\n",
       "    </tr>\n",
       "    <tr>\n",
       "      <th>344</th>\n",
       "      <td>Wed, Dec 13, 2023</td>\n",
       "      <td>8:00p</td>\n",
       "      <td>Indiana Pacers</td>\n",
       "      <td>126.0</td>\n",
       "      <td>Milwaukee Bucks</td>\n",
       "      <td>140.0</td>\n",
       "      <td>Fiserv Forum</td>\n",
       "      <td>NaN</td>\n",
       "    </tr>\n",
       "  </tbody>\n",
       "</table>\n",
       "</div>"
      ],
      "text/plain": [
       "                  Date Start (ET)               Away Team  Away PTS  \\\n",
       "14   Thu, Oct 26, 2023      7:30p      Philadelphia 76ers     117.0   \n",
       "36   Sun, Oct 29, 2023      7:00p           Atlanta Hawks     127.0   \n",
       "46   Mon, Oct 30, 2023      8:00p              Miami Heat     114.0   \n",
       "55    Wed, Nov 1, 2023      7:00p         Milwaukee Bucks     111.0   \n",
       "72    Fri, Nov 3, 2023      7:30p         New York Knicks     105.0   \n",
       "95    Mon, Nov 6, 2023      7:30p         Milwaukee Bucks     129.0   \n",
       "111   Wed, Nov 8, 2023      8:00p         Detroit Pistons     118.0   \n",
       "117   Thu, Nov 9, 2023      7:00p         Milwaukee Bucks     124.0   \n",
       "128  Sat, Nov 11, 2023      6:00p         Milwaukee Bucks      97.0   \n",
       "145  Mon, Nov 13, 2023      8:00p           Chicago Bulls     109.0   \n",
       "160  Wed, Nov 15, 2023      7:30p         Milwaukee Bucks     128.0   \n",
       "167  Fri, Nov 17, 2023      7:00p         Milwaukee Bucks     130.0   \n",
       "181  Sat, Nov 18, 2023      8:00p        Dallas Mavericks     125.0   \n",
       "195  Mon, Nov 20, 2023      7:00p         Milwaukee Bucks     142.0   \n",
       "209  Wed, Nov 22, 2023      7:30p         Milwaukee Bucks     116.0   \n",
       "226  Fri, Nov 24, 2023      8:00p      Washington Wizards     128.0   \n",
       "236  Sun, Nov 26, 2023      3:30p  Portland Trail Blazers     102.0   \n",
       "252  Tue, Nov 28, 2023      7:30p         Milwaukee Bucks     131.0   \n",
       "268  Thu, Nov 30, 2023      8:00p         Milwaukee Bucks     113.0   \n",
       "285   Sat, Dec 2, 2023      8:00p           Atlanta Hawks     121.0   \n",
       "293   Tue, Dec 5, 2023      7:30p         New York Knicks     122.0   \n",
       "306   Thu, Dec 7, 2023      5:00p          Indiana Pacers     128.0   \n",
       "329  Mon, Dec 11, 2023      8:00p           Chicago Bulls     129.0   \n",
       "344  Wed, Dec 13, 2023      8:00p          Indiana Pacers     126.0   \n",
       "\n",
       "              Home Team  Home PTS                  Arena                 Notes  \n",
       "14      Milwaukee Bucks     118.0           Fiserv Forum                   NaN  \n",
       "36      Milwaukee Bucks     110.0           Fiserv Forum                   NaN  \n",
       "46      Milwaukee Bucks     122.0           Fiserv Forum                   NaN  \n",
       "55      Toronto Raptors     130.0       Scotiabank Arena                   NaN  \n",
       "72      Milwaukee Bucks     110.0           Fiserv Forum  In-Season Tournament  \n",
       "95        Brooklyn Nets     125.0        Barclays Center                   NaN  \n",
       "111     Milwaukee Bucks     120.0           Fiserv Forum                   NaN  \n",
       "117      Indiana Pacers     126.0  Gainbridge Fieldhouse                   NaN  \n",
       "128       Orlando Magic     112.0           Amway Center                   NaN  \n",
       "145     Milwaukee Bucks     118.0           Fiserv Forum                   NaN  \n",
       "160     Toronto Raptors     112.0       Scotiabank Arena                   NaN  \n",
       "167   Charlotte Hornets      99.0        Spectrum Center  In-Season Tournament  \n",
       "181     Milwaukee Bucks     132.0           Fiserv Forum                   NaN  \n",
       "195  Washington Wizards     129.0      Capital One Arena                   NaN  \n",
       "209      Boston Celtics     119.0              TD Garden                   NaN  \n",
       "226     Milwaukee Bucks     131.0           Fiserv Forum  In-Season Tournament  \n",
       "236     Milwaukee Bucks     108.0           Fiserv Forum                   NaN  \n",
       "252          Miami Heat     124.0          Kaseya Center  In-Season Tournament  \n",
       "268       Chicago Bulls     120.0          United Center                   NaN  \n",
       "285     Milwaukee Bucks     132.0           Fiserv Forum                   NaN  \n",
       "293     Milwaukee Bucks     146.0           Fiserv Forum  In-Season Tournament  \n",
       "306     Milwaukee Bucks     119.0         T-Mobile Arena  In-Season Tournament  \n",
       "329     Milwaukee Bucks     133.0           Fiserv Forum                   NaN  \n",
       "344     Milwaukee Bucks     140.0           Fiserv Forum                   NaN  "
      ]
     },
     "execution_count": 14,
     "metadata": {},
     "output_type": "execute_result"
    }
   ],
   "source": [
    "bucks_df=played_games[(played_games[\"Away Team\"]==\"Milwaukee Bucks\")|(played_games[\"Home Team\"]==\"Milwaukee Bucks\")]\n",
    "bucks_df"
   ]
  },
  {
   "cell_type": "code",
   "execution_count": 15,
   "metadata": {},
   "outputs": [],
   "source": [
    "bucks_df=DatasetSlicer(\"Milwaukee Bucks\", played_games)"
   ]
  },
  {
   "cell_type": "code",
   "execution_count": 16,
   "metadata": {},
   "outputs": [
    {
     "data": {
      "text/html": [
       "<div>\n",
       "<style scoped>\n",
       "    .dataframe tbody tr th:only-of-type {\n",
       "        vertical-align: middle;\n",
       "    }\n",
       "\n",
       "    .dataframe tbody tr th {\n",
       "        vertical-align: top;\n",
       "    }\n",
       "\n",
       "    .dataframe thead th {\n",
       "        text-align: right;\n",
       "    }\n",
       "</style>\n",
       "<table border=\"1\" class=\"dataframe\">\n",
       "  <thead>\n",
       "    <tr style=\"text-align: right;\">\n",
       "      <th></th>\n",
       "      <th>Team</th>\n",
       "      <th>Opponent</th>\n",
       "      <th>Team Points</th>\n",
       "      <th>Opponent Points</th>\n",
       "    </tr>\n",
       "  </thead>\n",
       "  <tbody>\n",
       "    <tr>\n",
       "      <th>0</th>\n",
       "      <td>Milwaukee Bucks</td>\n",
       "      <td>Philadelphia 76ers</td>\n",
       "      <td>118</td>\n",
       "      <td>117</td>\n",
       "    </tr>\n",
       "    <tr>\n",
       "      <th>1</th>\n",
       "      <td>Milwaukee Bucks</td>\n",
       "      <td>Atlanta Hawks</td>\n",
       "      <td>110</td>\n",
       "      <td>127</td>\n",
       "    </tr>\n",
       "    <tr>\n",
       "      <th>2</th>\n",
       "      <td>Milwaukee Bucks</td>\n",
       "      <td>Miami Heat</td>\n",
       "      <td>122</td>\n",
       "      <td>114</td>\n",
       "    </tr>\n",
       "    <tr>\n",
       "      <th>3</th>\n",
       "      <td>Milwaukee Bucks</td>\n",
       "      <td>Toronto Raptors</td>\n",
       "      <td>111</td>\n",
       "      <td>130</td>\n",
       "    </tr>\n",
       "    <tr>\n",
       "      <th>4</th>\n",
       "      <td>Milwaukee Bucks</td>\n",
       "      <td>New York Knicks</td>\n",
       "      <td>110</td>\n",
       "      <td>105</td>\n",
       "    </tr>\n",
       "    <tr>\n",
       "      <th>5</th>\n",
       "      <td>Milwaukee Bucks</td>\n",
       "      <td>Brooklyn Nets</td>\n",
       "      <td>129</td>\n",
       "      <td>125</td>\n",
       "    </tr>\n",
       "    <tr>\n",
       "      <th>6</th>\n",
       "      <td>Milwaukee Bucks</td>\n",
       "      <td>Detroit Pistons</td>\n",
       "      <td>120</td>\n",
       "      <td>118</td>\n",
       "    </tr>\n",
       "    <tr>\n",
       "      <th>7</th>\n",
       "      <td>Milwaukee Bucks</td>\n",
       "      <td>Indiana Pacers</td>\n",
       "      <td>124</td>\n",
       "      <td>126</td>\n",
       "    </tr>\n",
       "    <tr>\n",
       "      <th>8</th>\n",
       "      <td>Milwaukee Bucks</td>\n",
       "      <td>Orlando Magic</td>\n",
       "      <td>97</td>\n",
       "      <td>112</td>\n",
       "    </tr>\n",
       "    <tr>\n",
       "      <th>9</th>\n",
       "      <td>Milwaukee Bucks</td>\n",
       "      <td>Chicago Bulls</td>\n",
       "      <td>118</td>\n",
       "      <td>109</td>\n",
       "    </tr>\n",
       "    <tr>\n",
       "      <th>10</th>\n",
       "      <td>Milwaukee Bucks</td>\n",
       "      <td>Toronto Raptors</td>\n",
       "      <td>128</td>\n",
       "      <td>112</td>\n",
       "    </tr>\n",
       "    <tr>\n",
       "      <th>11</th>\n",
       "      <td>Milwaukee Bucks</td>\n",
       "      <td>Charlotte Hornets</td>\n",
       "      <td>130</td>\n",
       "      <td>99</td>\n",
       "    </tr>\n",
       "    <tr>\n",
       "      <th>12</th>\n",
       "      <td>Milwaukee Bucks</td>\n",
       "      <td>Dallas Mavericks</td>\n",
       "      <td>132</td>\n",
       "      <td>125</td>\n",
       "    </tr>\n",
       "    <tr>\n",
       "      <th>13</th>\n",
       "      <td>Milwaukee Bucks</td>\n",
       "      <td>Washington Wizards</td>\n",
       "      <td>142</td>\n",
       "      <td>129</td>\n",
       "    </tr>\n",
       "    <tr>\n",
       "      <th>14</th>\n",
       "      <td>Milwaukee Bucks</td>\n",
       "      <td>Boston Celtics</td>\n",
       "      <td>116</td>\n",
       "      <td>119</td>\n",
       "    </tr>\n",
       "    <tr>\n",
       "      <th>15</th>\n",
       "      <td>Milwaukee Bucks</td>\n",
       "      <td>Washington Wizards</td>\n",
       "      <td>131</td>\n",
       "      <td>128</td>\n",
       "    </tr>\n",
       "    <tr>\n",
       "      <th>16</th>\n",
       "      <td>Milwaukee Bucks</td>\n",
       "      <td>Portland Trail Blazers</td>\n",
       "      <td>108</td>\n",
       "      <td>102</td>\n",
       "    </tr>\n",
       "    <tr>\n",
       "      <th>17</th>\n",
       "      <td>Milwaukee Bucks</td>\n",
       "      <td>Miami Heat</td>\n",
       "      <td>131</td>\n",
       "      <td>124</td>\n",
       "    </tr>\n",
       "    <tr>\n",
       "      <th>18</th>\n",
       "      <td>Milwaukee Bucks</td>\n",
       "      <td>Chicago Bulls</td>\n",
       "      <td>113</td>\n",
       "      <td>120</td>\n",
       "    </tr>\n",
       "    <tr>\n",
       "      <th>19</th>\n",
       "      <td>Milwaukee Bucks</td>\n",
       "      <td>Atlanta Hawks</td>\n",
       "      <td>132</td>\n",
       "      <td>121</td>\n",
       "    </tr>\n",
       "    <tr>\n",
       "      <th>20</th>\n",
       "      <td>Milwaukee Bucks</td>\n",
       "      <td>New York Knicks</td>\n",
       "      <td>146</td>\n",
       "      <td>122</td>\n",
       "    </tr>\n",
       "    <tr>\n",
       "      <th>21</th>\n",
       "      <td>Milwaukee Bucks</td>\n",
       "      <td>Indiana Pacers</td>\n",
       "      <td>119</td>\n",
       "      <td>128</td>\n",
       "    </tr>\n",
       "    <tr>\n",
       "      <th>22</th>\n",
       "      <td>Milwaukee Bucks</td>\n",
       "      <td>Chicago Bulls</td>\n",
       "      <td>133</td>\n",
       "      <td>129</td>\n",
       "    </tr>\n",
       "    <tr>\n",
       "      <th>23</th>\n",
       "      <td>Milwaukee Bucks</td>\n",
       "      <td>Indiana Pacers</td>\n",
       "      <td>140</td>\n",
       "      <td>126</td>\n",
       "    </tr>\n",
       "  </tbody>\n",
       "</table>\n",
       "</div>"
      ],
      "text/plain": [
       "               Team                Opponent Team Points Opponent Points\n",
       "0   Milwaukee Bucks      Philadelphia 76ers         118             117\n",
       "1   Milwaukee Bucks           Atlanta Hawks         110             127\n",
       "2   Milwaukee Bucks              Miami Heat         122             114\n",
       "3   Milwaukee Bucks         Toronto Raptors         111             130\n",
       "4   Milwaukee Bucks         New York Knicks         110             105\n",
       "5   Milwaukee Bucks           Brooklyn Nets         129             125\n",
       "6   Milwaukee Bucks         Detroit Pistons         120             118\n",
       "7   Milwaukee Bucks          Indiana Pacers         124             126\n",
       "8   Milwaukee Bucks           Orlando Magic          97             112\n",
       "9   Milwaukee Bucks           Chicago Bulls         118             109\n",
       "10  Milwaukee Bucks         Toronto Raptors         128             112\n",
       "11  Milwaukee Bucks       Charlotte Hornets         130              99\n",
       "12  Milwaukee Bucks        Dallas Mavericks         132             125\n",
       "13  Milwaukee Bucks      Washington Wizards         142             129\n",
       "14  Milwaukee Bucks          Boston Celtics         116             119\n",
       "15  Milwaukee Bucks      Washington Wizards         131             128\n",
       "16  Milwaukee Bucks  Portland Trail Blazers         108             102\n",
       "17  Milwaukee Bucks              Miami Heat         131             124\n",
       "18  Milwaukee Bucks           Chicago Bulls         113             120\n",
       "19  Milwaukee Bucks           Atlanta Hawks         132             121\n",
       "20  Milwaukee Bucks         New York Knicks         146             122\n",
       "21  Milwaukee Bucks          Indiana Pacers         119             128\n",
       "22  Milwaukee Bucks           Chicago Bulls         133             129\n",
       "23  Milwaukee Bucks          Indiana Pacers         140             126"
      ]
     },
     "execution_count": 16,
     "metadata": {},
     "output_type": "execute_result"
    }
   ],
   "source": [
    "bucks_df"
   ]
  },
  {
   "cell_type": "code",
   "execution_count": 17,
   "metadata": {},
   "outputs": [],
   "source": [
    "MIL_df_TeamPoints=bucks_df.iloc[:,2].astype(int)\n",
    "MIL_df_OppPoints=bucks_df.iloc[:,3].astype(int)"
   ]
  },
  {
   "cell_type": "code",
   "execution_count": 18,
   "metadata": {},
   "outputs": [
    {
     "data": {
      "image/png": "[encoded data removed]",
      "text/plain": [
       "<Figure size 1440x720 with 1 Axes>"
      ]
     },
     "metadata": {
      "needs_background": "light"
     },
     "output_type": "display_data"
    }
   ],
   "source": [
    "#Points Scored\n",
    "plt.figure(figsize=(20,10))\n",
    "MIL_df_TeamPoints.hist(color=\"green\",bins=4,edgecolor=\"black\")\n",
    "#plt.axvline(np.mean(MIL_df_TeamPoints), color=\"red\", linestyle=\"dashed\", linewidth=3)\n",
    "plt.xticks(fontsize=25)\n",
    "plt.yticks(fontsize=25)\n",
    "plt.xlabel(\"Bucks Points Scored\", fontsize=25)\n",
    "plt.ylabel(\"Number of Occurences\", fontsize=25)\n",
    "plt.grid(False)"
   ]
  },
  {
   "cell_type": "code",
   "execution_count": 19,
   "metadata": {},
   "outputs": [
    {
     "data": {
      "image/png": "[encoded data removed]",
      "text/plain": [
       "<Figure size 432x288 with 1 Axes>"
      ]
     },
     "metadata": {
      "needs_background": "light"
     },
     "output_type": "display_data"
    }
   ],
   "source": [
    "plt.figure(1)\n",
    "result=plt.hist(MIL_df_TeamPoints, color=\"green\",bins=4,edgecolor=\"black\")\n",
    "plt.xlim((min(MIL_df_TeamPoints)-5,max(MIL_df_TeamPoints)+5))\n",
    "\n",
    "mean=np.mean(MIL_df_TeamPoints)\n",
    "std=np.std(MIL_df_TeamPoints)\n",
    "x=np.linspace(min(MIL_df_TeamPoints)-5,max(MIL_df_TeamPoints)+5,100)\n",
    "dx = result[1][1] - result[1][0]\n",
    "scale = len(MIL_df_TeamPoints)*dx\n",
    "plt.plot(x, norm.pdf(x,mean,std)*scale, color=\"red\", linewidth=3)\n",
    "plt.axvline(np.mean(MIL_df_TeamPoints), color=\"red\")\n",
    "#plt.axvline(statistics.median(MIL_df_TeamPoints), color=\"blue\")\n",
    "#plt.axvline(statistics.mode(MIL_df_TeamPoints), color=\"yellow\")\n",
    "\n",
    "\n",
    "plt.show()"
   ]
  },
  {
   "cell_type": "code",
   "execution_count": 20,
   "metadata": {},
   "outputs": [
    {
     "name": "stdout",
     "output_type": "stream",
     "text": [
      "The data looks normally distributed (fail to reject H0)\n",
      "The skew is -0.1 . The skew is negligible.\n"
     ]
    }
   ],
   "source": [
    "if shapiro_test(MIL_df_TeamPoints)==True:\n",
    "    print(\"The data looks normally distributed (fail to reject H0)\")\n",
    "else:\n",
    "    print(\"The data does not look normally distributed (reject H0)\")\n",
    "    \n",
    "if skew(MIL_df_TeamPoints)==0:\n",
    "    print(\"The skew is 0\")\n",
    "elif -0.5>skew(MIL_df_TeamPoints) or 0.5>skew(MIL_df_TeamPoints):\n",
    "    print(\"The skew is\",round(skew(MIL_df_TeamPoints),2),\". The skew is negligible.\" )\n",
    "else:\n",
    "    print(\"The skew is\",round(skew(MIL_df_TeamPoints),2),\". The data is skewed\")"
   ]
  },
  {
   "cell_type": "code",
   "execution_count": 21,
   "metadata": {},
   "outputs": [
    {
     "data": {
      "image/png": "[encoded data removed]",
      "text/plain": [
       "<Figure size 1440x720 with 1 Axes>"
      ]
     },
     "metadata": {
      "needs_background": "light"
     },
     "output_type": "display_data"
    }
   ],
   "source": [
    "#Points Conceded\n",
    "plt.figure(figsize=(20,10))\n",
    "MIL_df_OppPoints.hist(color=\"green\",bins=4,edgecolor=\"black\")\n",
    "#plt.axvline(np.mean(MIL_df_TeamPoints), color=\"red\", linestyle=\"dashed\", linewidth=3)\n",
    "plt.xticks(fontsize=25)\n",
    "plt.yticks(fontsize=25)\n",
    "plt.xlabel(\"Bucks Points Conceded\", fontsize=25)\n",
    "plt.ylabel(\"Number of Occurences\", fontsize=25)\n",
    "plt.grid(False)"
   ]
  },
  {
   "cell_type": "code",
   "execution_count": 22,
   "metadata": {},
   "outputs": [
    {
     "name": "stdout",
     "output_type": "stream",
     "text": [
      "The data looks normally distributed (fail to reject H0)\n",
      "The skew is -0.82 . The skew is negligible.\n"
     ]
    }
   ],
   "source": [
    "if shapiro_test(MIL_df_OppPoints)==True:\n",
    "    print(\"The data looks normally distributed (fail to reject H0)\")\n",
    "else:\n",
    "    print(\"The data does not look normally distributed (reject H0)\")\n",
    "    \n",
    "if skew(MIL_df_OppPoints)==0:\n",
    "    print(\"The skew is 0\")\n",
    "elif -0.5<skew(MIL_df_OppPoints) or 0.5>skew(MIL_df_OppPoints):\n",
    "    print(\"The skew is\",round(skew(MIL_df_OppPoints),2),\". The skew is negligible.\" )\n",
    "else:\n",
    "    print(\"The skew is\",round(skew(MIL_df_OppPoints),2),\". The data is skewed\")"
   ]
  },
  {
   "cell_type": "markdown",
   "metadata": {},
   "source": [
    "# Regular Season Simulation"
   ]
  },
  {
   "cell_type": "code",
   "execution_count": 23,
   "metadata": {},
   "outputs": [],
   "source": [
    "for i in range(len(unplayed_games)):\n",
    "    SeriesSim(unplayed_games.iloc[i,2],unplayed_games.iloc[i,4], 1000,played_games)\n",
    "    unplayed_games.iloc[i,3]=ave_Team1_game_scores\n",
    "    unplayed_games.iloc[i,5]=ave_Team2_game_scores"
   ]
  },
  {
   "cell_type": "code",
   "execution_count": 24,
   "metadata": {},
   "outputs": [],
   "source": [
    "full_nba_season_results=pd.concat([played_games, unplayed_games], ignore_index=True)"
   ]
  },
  {
   "cell_type": "code",
   "execution_count": 25,
   "metadata": {},
   "outputs": [
    {
     "data": {
      "text/html": [
       "<div>\n",
       "<style scoped>\n",
       "    .dataframe tbody tr th:only-of-type {\n",
       "        vertical-align: middle;\n",
       "    }\n",
       "\n",
       "    .dataframe tbody tr th {\n",
       "        vertical-align: top;\n",
       "    }\n",
       "\n",
       "    .dataframe thead th {\n",
       "        text-align: right;\n",
       "    }\n",
       "</style>\n",
       "<table border=\"1\" class=\"dataframe\">\n",
       "  <thead>\n",
       "    <tr style=\"text-align: right;\">\n",
       "      <th></th>\n",
       "      <th>Date</th>\n",
       "      <th>Start (ET)</th>\n",
       "      <th>Away Team</th>\n",
       "      <th>Away PTS</th>\n",
       "      <th>Home Team</th>\n",
       "      <th>Home PTS</th>\n",
       "      <th>Arena</th>\n",
       "      <th>Notes</th>\n",
       "    </tr>\n",
       "  </thead>\n",
       "  <tbody>\n",
       "    <tr>\n",
       "      <th>0</th>\n",
       "      <td>Tue, Oct 24, 2023</td>\n",
       "      <td>7:30p</td>\n",
       "      <td>Los Angeles Lakers</td>\n",
       "      <td>107.0</td>\n",
       "      <td>Denver Nuggets</td>\n",
       "      <td>119.0</td>\n",
       "      <td>Ball Arena</td>\n",
       "      <td>NaN</td>\n",
       "    </tr>\n",
       "    <tr>\n",
       "      <th>1</th>\n",
       "      <td>Tue, Oct 24, 2023</td>\n",
       "      <td>10:00p</td>\n",
       "      <td>Phoenix Suns</td>\n",
       "      <td>108.0</td>\n",
       "      <td>Golden State Warriors</td>\n",
       "      <td>104.0</td>\n",
       "      <td>Chase Center</td>\n",
       "      <td>NaN</td>\n",
       "    </tr>\n",
       "    <tr>\n",
       "      <th>2</th>\n",
       "      <td>Wed, Oct 25, 2023</td>\n",
       "      <td>7:00p</td>\n",
       "      <td>Houston Rockets</td>\n",
       "      <td>86.0</td>\n",
       "      <td>Orlando Magic</td>\n",
       "      <td>116.0</td>\n",
       "      <td>Amway Center</td>\n",
       "      <td>NaN</td>\n",
       "    </tr>\n",
       "    <tr>\n",
       "      <th>3</th>\n",
       "      <td>Wed, Oct 25, 2023</td>\n",
       "      <td>7:00p</td>\n",
       "      <td>Boston Celtics</td>\n",
       "      <td>108.0</td>\n",
       "      <td>New York Knicks</td>\n",
       "      <td>104.0</td>\n",
       "      <td>Madison Square Garden (IV)</td>\n",
       "      <td>NaN</td>\n",
       "    </tr>\n",
       "    <tr>\n",
       "      <th>4</th>\n",
       "      <td>Wed, Oct 25, 2023</td>\n",
       "      <td>7:00p</td>\n",
       "      <td>Washington Wizards</td>\n",
       "      <td>120.0</td>\n",
       "      <td>Indiana Pacers</td>\n",
       "      <td>143.0</td>\n",
       "      <td>Gainbridge Fieldhouse</td>\n",
       "      <td>NaN</td>\n",
       "    </tr>\n",
       "    <tr>\n",
       "      <th>...</th>\n",
       "      <td>...</td>\n",
       "      <td>...</td>\n",
       "      <td>...</td>\n",
       "      <td>...</td>\n",
       "      <td>...</td>\n",
       "      <td>...</td>\n",
       "      <td>...</td>\n",
       "      <td>...</td>\n",
       "    </tr>\n",
       "    <tr>\n",
       "      <th>1225</th>\n",
       "      <td>Sun, Apr 14, 2024</td>\n",
       "      <td>3:30p</td>\n",
       "      <td>Phoenix Suns</td>\n",
       "      <td>110.0</td>\n",
       "      <td>Minnesota Timberwolves</td>\n",
       "      <td>113.0</td>\n",
       "      <td>Target Center</td>\n",
       "      <td>NaN</td>\n",
       "    </tr>\n",
       "    <tr>\n",
       "      <th>1226</th>\n",
       "      <td>Sun, Apr 14, 2024</td>\n",
       "      <td>3:30p</td>\n",
       "      <td>Los Angeles Lakers</td>\n",
       "      <td>114.0</td>\n",
       "      <td>New Orleans Pelicans</td>\n",
       "      <td>114.0</td>\n",
       "      <td>Smoothie King Center</td>\n",
       "      <td>NaN</td>\n",
       "    </tr>\n",
       "    <tr>\n",
       "      <th>1227</th>\n",
       "      <td>Sun, Apr 14, 2024</td>\n",
       "      <td>3:30p</td>\n",
       "      <td>Dallas Mavericks</td>\n",
       "      <td>117.0</td>\n",
       "      <td>Oklahoma City Thunder</td>\n",
       "      <td>118.0</td>\n",
       "      <td>Paycom Center</td>\n",
       "      <td>NaN</td>\n",
       "    </tr>\n",
       "    <tr>\n",
       "      <th>1228</th>\n",
       "      <td>Sun, Apr 14, 2024</td>\n",
       "      <td>3:30p</td>\n",
       "      <td>Portland Trail Blazers</td>\n",
       "      <td>112.0</td>\n",
       "      <td>Sacramento Kings</td>\n",
       "      <td>114.0</td>\n",
       "      <td>Golden 1 Center</td>\n",
       "      <td>NaN</td>\n",
       "    </tr>\n",
       "    <tr>\n",
       "      <th>1229</th>\n",
       "      <td>Sun, Apr 14, 2024</td>\n",
       "      <td>3:30p</td>\n",
       "      <td>Detroit Pistons</td>\n",
       "      <td>115.0</td>\n",
       "      <td>San Antonio Spurs</td>\n",
       "      <td>115.0</td>\n",
       "      <td>Frost Bank Center</td>\n",
       "      <td>NaN</td>\n",
       "    </tr>\n",
       "  </tbody>\n",
       "</table>\n",
       "<p>1230 rows × 8 columns</p>\n",
       "</div>"
      ],
      "text/plain": [
       "                   Date Start (ET)               Away Team  Away PTS  \\\n",
       "0     Tue, Oct 24, 2023      7:30p      Los Angeles Lakers     107.0   \n",
       "1     Tue, Oct 24, 2023     10:00p            Phoenix Suns     108.0   \n",
       "2     Wed, Oct 25, 2023      7:00p         Houston Rockets      86.0   \n",
       "3     Wed, Oct 25, 2023      7:00p          Boston Celtics     108.0   \n",
       "4     Wed, Oct 25, 2023      7:00p      Washington Wizards     120.0   \n",
       "...                 ...        ...                     ...       ...   \n",
       "1225  Sun, Apr 14, 2024      3:30p            Phoenix Suns     110.0   \n",
       "1226  Sun, Apr 14, 2024      3:30p      Los Angeles Lakers     114.0   \n",
       "1227  Sun, Apr 14, 2024      3:30p        Dallas Mavericks     117.0   \n",
       "1228  Sun, Apr 14, 2024      3:30p  Portland Trail Blazers     112.0   \n",
       "1229  Sun, Apr 14, 2024      3:30p         Detroit Pistons     115.0   \n",
       "\n",
       "                   Home Team  Home PTS                       Arena Notes  \n",
       "0             Denver Nuggets     119.0                  Ball Arena   NaN  \n",
       "1      Golden State Warriors     104.0                Chase Center   NaN  \n",
       "2              Orlando Magic     116.0                Amway Center   NaN  \n",
       "3            New York Knicks     104.0  Madison Square Garden (IV)   NaN  \n",
       "4             Indiana Pacers     143.0       Gainbridge Fieldhouse   NaN  \n",
       "...                      ...       ...                         ...   ...  \n",
       "1225  Minnesota Timberwolves     113.0               Target Center   NaN  \n",
       "1226    New Orleans Pelicans     114.0        Smoothie King Center   NaN  \n",
       "1227   Oklahoma City Thunder     118.0               Paycom Center   NaN  \n",
       "1228        Sacramento Kings     114.0             Golden 1 Center   NaN  \n",
       "1229       San Antonio Spurs     115.0           Frost Bank Center   NaN  \n",
       "\n",
       "[1230 rows x 8 columns]"
      ]
     },
     "execution_count": 25,
     "metadata": {},
     "output_type": "execute_result"
    }
   ],
   "source": [
    "full_nba_season_results"
   ]
  },
  {
   "cell_type": "code",
   "execution_count": 26,
   "metadata": {},
   "outputs": [],
   "source": [
    "eastern_conference_standings=pd.DataFrame(columns=[\"Team\",\"W\",\"L\",\"%\"])\n",
    "for team in eastern_conference_teams:\n",
    "    team_win_count=0\n",
    "    Team_df_full_season=DatasetSlicer(team, full_nba_season_results)\n",
    "    for i in range(len(Team_df_full_season)):\n",
    "        if Team_df_full_season.iloc[i,2]>Team_df_full_season.iloc[i,3]:\n",
    "            team_win_count+=1\n",
    "    win_percentage=team_win_count/80\n",
    "    row=[team, team_win_count, 80-team_win_count, win_percentage]\n",
    "    eastern_conference_standings.loc[len(eastern_conference_standings)]=row"
   ]
  },
  {
   "cell_type": "code",
   "execution_count": 27,
   "metadata": {},
   "outputs": [
    {
     "data": {
      "text/html": [
       "<div>\n",
       "<style scoped>\n",
       "    .dataframe tbody tr th:only-of-type {\n",
       "        vertical-align: middle;\n",
       "    }\n",
       "\n",
       "    .dataframe tbody tr th {\n",
       "        vertical-align: top;\n",
       "    }\n",
       "\n",
       "    .dataframe thead th {\n",
       "        text-align: right;\n",
       "    }\n",
       "</style>\n",
       "<table border=\"1\" class=\"dataframe\">\n",
       "  <thead>\n",
       "    <tr style=\"text-align: right;\">\n",
       "      <th></th>\n",
       "      <th>Team</th>\n",
       "      <th>W</th>\n",
       "      <th>L</th>\n",
       "      <th>%</th>\n",
       "    </tr>\n",
       "  </thead>\n",
       "  <tbody>\n",
       "    <tr>\n",
       "      <th>1</th>\n",
       "      <td>Boston Celtics</td>\n",
       "      <td>74</td>\n",
       "      <td>6</td>\n",
       "      <td>0.9250</td>\n",
       "    </tr>\n",
       "    <tr>\n",
       "      <th>2</th>\n",
       "      <td>Philadelphia 76ers</td>\n",
       "      <td>74</td>\n",
       "      <td>6</td>\n",
       "      <td>0.9250</td>\n",
       "    </tr>\n",
       "    <tr>\n",
       "      <th>3</th>\n",
       "      <td>Orlando Magic</td>\n",
       "      <td>64</td>\n",
       "      <td>16</td>\n",
       "      <td>0.8000</td>\n",
       "    </tr>\n",
       "    <tr>\n",
       "      <th>4</th>\n",
       "      <td>Milwaukee Bucks</td>\n",
       "      <td>55</td>\n",
       "      <td>25</td>\n",
       "      <td>0.6875</td>\n",
       "    </tr>\n",
       "    <tr>\n",
       "      <th>5</th>\n",
       "      <td>Brooklyn Nets</td>\n",
       "      <td>47</td>\n",
       "      <td>33</td>\n",
       "      <td>0.5875</td>\n",
       "    </tr>\n",
       "    <tr>\n",
       "      <th>6</th>\n",
       "      <td>Indiana Pacers</td>\n",
       "      <td>46</td>\n",
       "      <td>34</td>\n",
       "      <td>0.5750</td>\n",
       "    </tr>\n",
       "    <tr>\n",
       "      <th>7</th>\n",
       "      <td>New York Knicks</td>\n",
       "      <td>41</td>\n",
       "      <td>39</td>\n",
       "      <td>0.5125</td>\n",
       "    </tr>\n",
       "    <tr>\n",
       "      <th>8</th>\n",
       "      <td>Miami Heat</td>\n",
       "      <td>39</td>\n",
       "      <td>41</td>\n",
       "      <td>0.4875</td>\n",
       "    </tr>\n",
       "    <tr>\n",
       "      <th>9</th>\n",
       "      <td>Cleveland Cavaliers</td>\n",
       "      <td>35</td>\n",
       "      <td>45</td>\n",
       "      <td>0.4375</td>\n",
       "    </tr>\n",
       "    <tr>\n",
       "      <th>10</th>\n",
       "      <td>Atlanta Hawks</td>\n",
       "      <td>30</td>\n",
       "      <td>50</td>\n",
       "      <td>0.3750</td>\n",
       "    </tr>\n",
       "    <tr>\n",
       "      <th>11</th>\n",
       "      <td>Toronto Raptors</td>\n",
       "      <td>26</td>\n",
       "      <td>54</td>\n",
       "      <td>0.3250</td>\n",
       "    </tr>\n",
       "    <tr>\n",
       "      <th>12</th>\n",
       "      <td>Chicago Bulls</td>\n",
       "      <td>24</td>\n",
       "      <td>56</td>\n",
       "      <td>0.3000</td>\n",
       "    </tr>\n",
       "    <tr>\n",
       "      <th>13</th>\n",
       "      <td>Charlotte Hornets</td>\n",
       "      <td>13</td>\n",
       "      <td>67</td>\n",
       "      <td>0.1625</td>\n",
       "    </tr>\n",
       "    <tr>\n",
       "      <th>14</th>\n",
       "      <td>Washington Wizards</td>\n",
       "      <td>5</td>\n",
       "      <td>75</td>\n",
       "      <td>0.0625</td>\n",
       "    </tr>\n",
       "    <tr>\n",
       "      <th>15</th>\n",
       "      <td>Detroit Pistons</td>\n",
       "      <td>5</td>\n",
       "      <td>75</td>\n",
       "      <td>0.0625</td>\n",
       "    </tr>\n",
       "  </tbody>\n",
       "</table>\n",
       "</div>"
      ],
      "text/plain": [
       "                   Team   W   L       %\n",
       "1        Boston Celtics  74   6  0.9250\n",
       "2    Philadelphia 76ers  74   6  0.9250\n",
       "3         Orlando Magic  64  16  0.8000\n",
       "4       Milwaukee Bucks  55  25  0.6875\n",
       "5         Brooklyn Nets  47  33  0.5875\n",
       "6        Indiana Pacers  46  34  0.5750\n",
       "7       New York Knicks  41  39  0.5125\n",
       "8            Miami Heat  39  41  0.4875\n",
       "9   Cleveland Cavaliers  35  45  0.4375\n",
       "10        Atlanta Hawks  30  50  0.3750\n",
       "11      Toronto Raptors  26  54  0.3250\n",
       "12        Chicago Bulls  24  56  0.3000\n",
       "13    Charlotte Hornets  13  67  0.1625\n",
       "14   Washington Wizards   5  75  0.0625\n",
       "15      Detroit Pistons   5  75  0.0625"
      ]
     },
     "execution_count": 27,
     "metadata": {},
     "output_type": "execute_result"
    }
   ],
   "source": [
    "eastern_conference_standings=eastern_conference_standings.sort_values(\"%\", ascending=False)\n",
    "eastern_conference_standings.reset_index(drop=True)\n",
    "eastern_conference_standings.index=np.arange(1, len(eastern_conference_standings)+1)\n",
    "eastern_conference_standings"
   ]
  },
  {
   "cell_type": "code",
   "execution_count": 28,
   "metadata": {},
   "outputs": [],
   "source": [
    "western_conference_standings=pd.DataFrame(columns=[\"Team\",\"W\",\"L\",\"%\"])\n",
    "for team in western_conference_teams:\n",
    "    team_win_count=0\n",
    "    Team_df_full_season=DatasetSlicer(team, full_nba_season_results)\n",
    "    for i in range(len(Team_df_full_season)):\n",
    "        if Team_df_full_season.iloc[i,2]>Team_df_full_season.iloc[i,3]:\n",
    "            team_win_count+=1\n",
    "    win_percentage=team_win_count/80\n",
    "    row=[team, team_win_count, 80-team_win_count, win_percentage]\n",
    "    western_conference_standings.loc[len(western_conference_standings)]=row"
   ]
  },
  {
   "cell_type": "code",
   "execution_count": 29,
   "metadata": {},
   "outputs": [
    {
     "data": {
      "text/html": [
       "<div>\n",
       "<style scoped>\n",
       "    .dataframe tbody tr th:only-of-type {\n",
       "        vertical-align: middle;\n",
       "    }\n",
       "\n",
       "    .dataframe tbody tr th {\n",
       "        vertical-align: top;\n",
       "    }\n",
       "\n",
       "    .dataframe thead th {\n",
       "        text-align: right;\n",
       "    }\n",
       "</style>\n",
       "<table border=\"1\" class=\"dataframe\">\n",
       "  <thead>\n",
       "    <tr style=\"text-align: right;\">\n",
       "      <th></th>\n",
       "      <th>Team</th>\n",
       "      <th>W</th>\n",
       "      <th>L</th>\n",
       "      <th>%</th>\n",
       "    </tr>\n",
       "  </thead>\n",
       "  <tbody>\n",
       "    <tr>\n",
       "      <th>1</th>\n",
       "      <td>Minnesota Timberwolves</td>\n",
       "      <td>71</td>\n",
       "      <td>9</td>\n",
       "      <td>0.8875</td>\n",
       "    </tr>\n",
       "    <tr>\n",
       "      <th>2</th>\n",
       "      <td>Oklahoma City Thunder</td>\n",
       "      <td>70</td>\n",
       "      <td>10</td>\n",
       "      <td>0.8750</td>\n",
       "    </tr>\n",
       "    <tr>\n",
       "      <th>3</th>\n",
       "      <td>Los Angeles Clippers</td>\n",
       "      <td>59</td>\n",
       "      <td>21</td>\n",
       "      <td>0.7375</td>\n",
       "    </tr>\n",
       "    <tr>\n",
       "      <th>4</th>\n",
       "      <td>Houston Rockets</td>\n",
       "      <td>57</td>\n",
       "      <td>23</td>\n",
       "      <td>0.7125</td>\n",
       "    </tr>\n",
       "    <tr>\n",
       "      <th>5</th>\n",
       "      <td>Denver Nuggets</td>\n",
       "      <td>51</td>\n",
       "      <td>29</td>\n",
       "      <td>0.6375</td>\n",
       "    </tr>\n",
       "    <tr>\n",
       "      <th>6</th>\n",
       "      <td>Dallas Mavericks</td>\n",
       "      <td>50</td>\n",
       "      <td>30</td>\n",
       "      <td>0.6250</td>\n",
       "    </tr>\n",
       "    <tr>\n",
       "      <th>7</th>\n",
       "      <td>Phoenix Suns</td>\n",
       "      <td>40</td>\n",
       "      <td>40</td>\n",
       "      <td>0.5000</td>\n",
       "    </tr>\n",
       "    <tr>\n",
       "      <th>8</th>\n",
       "      <td>Los Angeles Lakers</td>\n",
       "      <td>37</td>\n",
       "      <td>43</td>\n",
       "      <td>0.4625</td>\n",
       "    </tr>\n",
       "    <tr>\n",
       "      <th>9</th>\n",
       "      <td>New Orleans Pelicans</td>\n",
       "      <td>36</td>\n",
       "      <td>44</td>\n",
       "      <td>0.4500</td>\n",
       "    </tr>\n",
       "    <tr>\n",
       "      <th>10</th>\n",
       "      <td>Golden State Warriors</td>\n",
       "      <td>34</td>\n",
       "      <td>46</td>\n",
       "      <td>0.4250</td>\n",
       "    </tr>\n",
       "    <tr>\n",
       "      <th>11</th>\n",
       "      <td>Sacramento Kings</td>\n",
       "      <td>31</td>\n",
       "      <td>49</td>\n",
       "      <td>0.3875</td>\n",
       "    </tr>\n",
       "    <tr>\n",
       "      <th>12</th>\n",
       "      <td>Utah Jazz</td>\n",
       "      <td>15</td>\n",
       "      <td>65</td>\n",
       "      <td>0.1875</td>\n",
       "    </tr>\n",
       "    <tr>\n",
       "      <th>13</th>\n",
       "      <td>Portland Trail Blazers</td>\n",
       "      <td>14</td>\n",
       "      <td>66</td>\n",
       "      <td>0.1750</td>\n",
       "    </tr>\n",
       "    <tr>\n",
       "      <th>14</th>\n",
       "      <td>Memphis Grizzlies</td>\n",
       "      <td>14</td>\n",
       "      <td>66</td>\n",
       "      <td>0.1750</td>\n",
       "    </tr>\n",
       "    <tr>\n",
       "      <th>15</th>\n",
       "      <td>San Antonio Spurs</td>\n",
       "      <td>3</td>\n",
       "      <td>77</td>\n",
       "      <td>0.0375</td>\n",
       "    </tr>\n",
       "  </tbody>\n",
       "</table>\n",
       "</div>"
      ],
      "text/plain": [
       "                      Team   W   L       %\n",
       "1   Minnesota Timberwolves  71   9  0.8875\n",
       "2    Oklahoma City Thunder  70  10  0.8750\n",
       "3     Los Angeles Clippers  59  21  0.7375\n",
       "4          Houston Rockets  57  23  0.7125\n",
       "5           Denver Nuggets  51  29  0.6375\n",
       "6         Dallas Mavericks  50  30  0.6250\n",
       "7             Phoenix Suns  40  40  0.5000\n",
       "8       Los Angeles Lakers  37  43  0.4625\n",
       "9     New Orleans Pelicans  36  44  0.4500\n",
       "10   Golden State Warriors  34  46  0.4250\n",
       "11        Sacramento Kings  31  49  0.3875\n",
       "12               Utah Jazz  15  65  0.1875\n",
       "13  Portland Trail Blazers  14  66  0.1750\n",
       "14       Memphis Grizzlies  14  66  0.1750\n",
       "15       San Antonio Spurs   3  77  0.0375"
      ]
     },
     "execution_count": 29,
     "metadata": {},
     "output_type": "execute_result"
    }
   ],
   "source": [
    "western_conference_standings=western_conference_standings.sort_values(\"%\", ascending=False)\n",
    "western_conference_standings.reset_index(drop=True)\n",
    "western_conference_standings.index=np.arange(1, len(eastern_conference_standings)+1)\n",
    "western_conference_standings"
   ]
  },
  {
   "cell_type": "markdown",
   "metadata": {},
   "source": [
    "## Play-in Tournament Simulation"
   ]
  },
  {
   "cell_type": "markdown",
   "metadata": {},
   "source": [
    "### Eastern Conference Play-in "
   ]
  },
  {
   "attachments": {
    "image-4.png": {
     "image/png": "[encoded data removed]"
    }
   },
   "cell_type": "markdown",
   "metadata": {},
   "source": [
    "![image-4.png](attachment:image-4.png)"
   ]
  },
  {
   "cell_type": "code",
   "execution_count": 52,
   "metadata": {},
   "outputs": [
    {
     "name": "stdout",
     "output_type": "stream",
     "text": [
      "The New York Knicks beat the Miami Heat\n"
     ]
    }
   ],
   "source": [
    "SeriesSim(\"New York Knicks\", \"Miami Heat\", 1000,full_nba_season_results)\n",
    "if ave_Team2_game_scores>ave_Team1_game_scores:\n",
    "    print(\"The Miami Heat beat the New York Knicks\")\n",
    "else:\n",
    "    print(\"The New York Knicks beat the Miami Heat\")"
   ]
  },
  {
   "cell_type": "code",
   "execution_count": 53,
   "metadata": {},
   "outputs": [
    {
     "name": "stdout",
     "output_type": "stream",
     "text": [
      "The Cleveland Cavaliers beat the Atlanta Hawks\n"
     ]
    }
   ],
   "source": [
    "SeriesSim(\"Cleveland Cavaliers\", \"Atlanta Hawks\", 1000,full_nba_season_results)\n",
    "if ave_Team2_game_scores>ave_Team1_game_scores:\n",
    "    print(\"The Atlanta Hawks beat the Cleveland Cavaliers\")\n",
    "else:\n",
    "    print(\"The Cleveland Cavaliers beat the Atlanta Hawks\")"
   ]
  },
  {
   "attachments": {
    "image-5.png": {
     "image/png": "[encoded data removed]"
    }
   },
   "cell_type": "markdown",
   "metadata": {},
   "source": [
    "![image-5.png](attachment:image-5.png)"
   ]
  },
  {
   "cell_type": "code",
   "execution_count": 54,
   "metadata": {},
   "outputs": [
    {
     "name": "stdout",
     "output_type": "stream",
     "text": [
      "The Miami Heat beat the Cleveland Cavaliers\n"
     ]
    }
   ],
   "source": [
    "SeriesSim(\"Miami Heat\", \"Cleveland Cavaliers\", 1000,full_nba_season_results)\n",
    "if ave_Team2_game_scores>ave_Team1_game_scores:\n",
    "    print(\"The Cleveland Cavaliers beat the Miami Heat\")\n",
    "else:\n",
    "    print(\"The Miami Heat beat the Cleveland Cavaliers\")"
   ]
  },
  {
   "cell_type": "markdown",
   "metadata": {},
   "source": [
    "The New York Knicks and Miami Heat advance to the playoffs"
   ]
  },
  {
   "cell_type": "markdown",
   "metadata": {},
   "source": [
    "### Western Conference Play-in"
   ]
  },
  {
   "attachments": {
    "image-3.png": {
     "image/png": "[encoded data removed]"
    }
   },
   "cell_type": "markdown",
   "metadata": {},
   "source": [
    "![image-3.png](attachment:image-3.png)"
   ]
  },
  {
   "cell_type": "code",
   "execution_count": 55,
   "metadata": {},
   "outputs": [
    {
     "name": "stdout",
     "output_type": "stream",
     "text": [
      "The Los Angeles Lakers beat the Phoenix Suns\n"
     ]
    }
   ],
   "source": [
    "SeriesSim(\"Los Angeles Lakers\", \"Phoenix Suns\", 1000,full_nba_season_results)\n",
    "if ave_Team2_game_scores>ave_Team1_game_scores:\n",
    "    print(\"The Phoenix Suns beat the Los Angeles Lakers\")\n",
    "else:\n",
    "    print(\"The Los Angeles Lakers beat the Phoenix Suns\")"
   ]
  },
  {
   "cell_type": "code",
   "execution_count": 56,
   "metadata": {},
   "outputs": [
    {
     "name": "stdout",
     "output_type": "stream",
     "text": [
      "The Golden State Warriors beat the New Orleans Pelicans\n"
     ]
    }
   ],
   "source": [
    "SeriesSim(\"New Orleans Pelicans\", \"Golden State Warriors\", 1000,full_nba_season_results)\n",
    "if ave_Team2_game_scores>ave_Team1_game_scores:\n",
    "    print(\"The Golden State Warriors beat the New Orleans Pelicans\")\n",
    "else:\n",
    "    print(\"The New Orleans Pelicans beat the Golden State Warriors\")"
   ]
  },
  {
   "attachments": {
    "image-4.png": {
     "image/png": "[encoded data removed]"
    }
   },
   "cell_type": "markdown",
   "metadata": {},
   "source": [
    "![image-4.png](attachment:image-4.png)"
   ]
  },
  {
   "cell_type": "code",
   "execution_count": 57,
   "metadata": {},
   "outputs": [
    {
     "name": "stdout",
     "output_type": "stream",
     "text": [
      "The Phoenix Suns beat the Golden State Warriors\n"
     ]
    }
   ],
   "source": [
    "SeriesSim(\"Phoenix Suns\", \"Golden State Warriors\", 1000,full_nba_season_results)\n",
    "if ave_Team2_game_scores>ave_Team1_game_scores:\n",
    "    print(\"The Golden State Warriors beat the Phoenix Suns\")\n",
    "else:\n",
    "    print(\"The Phoenix Suns beat the Golden State Warriors\")"
   ]
  },
  {
   "cell_type": "markdown",
   "metadata": {},
   "source": [
    "The Los Angeles Lakers and the Phoenix Suns advance to the playoffs"
   ]
  },
  {
   "cell_type": "markdown",
   "metadata": {},
   "source": [
    "## Playoff Simulation"
   ]
  },
  {
   "cell_type": "code",
   "execution_count": 36,
   "metadata": {},
   "outputs": [],
   "source": [
    "def PlayoffSeriesSim(Team1, Team2, series):\n",
    "    Team1_df=DatasetSlicer(Team1, full_nba_season_results)\n",
    "    Team2_df=DatasetSlicer(Team2,full_nba_season_results)\n",
    "    \n",
    "    DatasetTransformer(Team1_df, Team2_df)\n",
    "    Team1_series_wins=0\n",
    "    Team2_series_wins=0\n",
    "    Team1_series_score=[]\n",
    "    Team2_series_score=[]\n",
    "    Team1_game_scores = []\n",
    "    Team2_game_scores = []\n",
    "    for i in range(series):\n",
    "        Team1_wins = 0\n",
    "        Team2_wins = 0\n",
    "        while (Team1_wins!=4) and (Team2_wins!=4):\n",
    "            gm = gameSim(datasets, transformation)\n",
    "            Team1_game_scores.append(Team1_score)\n",
    "            Team2_game_scores.append(Team2_score)\n",
    "            if gm == 1:\n",
    "                Team1_wins +=1 \n",
    "            else:\n",
    "                Team2_wins +=1\n",
    "        if Team1_wins==4:\n",
    "            Team1_series_wins+=1\n",
    "            Team1_series_score.append(Team1_wins)\n",
    "            Team2_series_score.append(Team2_wins)\n",
    "        elif Team2_wins==4: \n",
    "            Team2_series_wins+=1\n",
    "            Team1_series_score.append(Team1_wins)\n",
    "            Team2_series_score.append(Team2_wins)\n",
    "            \n",
    "    print(f'{Team1} wins', round((Team1_series_wins/(Team1_series_wins+Team2_series_wins)*100),2),'% of best-of-7 series')\n",
    "    print(f'{Team2} wins', round((Team2_series_wins/(Team1_series_wins+Team2_series_wins)*100),2),'% of best-of-7 series\\n')\n",
    "    \n",
    "    if Team1_series_wins>Team2_series_wins:\n",
    "        print(\"The average series score is 4 to\", round(sum(Team2_series_score)/len(Team2_series_score)),\"\\n\")\n",
    "    else:\n",
    "        print(\"The average series score is 4 to\", round(sum(Team1_series_score)/len(Team1_series_score)),\"\\n\")\n",
    "\n",
    "    print(f'{Team1} Average Score ', round(sum(Team1_game_scores)/len(Team1_game_scores)))\n",
    "    print(f'{Team2} Average Score ', round(sum(Team2_game_scores)/len(Team2_game_scores)))"
   ]
  },
  {
   "cell_type": "markdown",
   "metadata": {},
   "source": [
    "### Eastern Conference First Round "
   ]
  },
  {
   "attachments": {
    "image-8.png": {
     "image/png": "[encoded data removed]"
    }
   },
   "cell_type": "markdown",
   "metadata": {},
   "source": [
    "![image-8.png](attachment:image-8.png)"
   ]
  },
  {
   "cell_type": "code",
   "execution_count": 58,
   "metadata": {},
   "outputs": [
    {
     "name": "stdout",
     "output_type": "stream",
     "text": [
      "Boston Celtics wins 74.6 % of best-of-7 series\n",
      "Miami Heat wins 25.4 % of best-of-7 series\n",
      "\n",
      "The average series score is 4 to 2 \n",
      "\n",
      "Boston Celtics Average Score  115\n",
      "Miami Heat Average Score  112\n"
     ]
    }
   ],
   "source": [
    "PlayoffSeriesSim(\"Boston Celtics\", \"Miami Heat\", 1000)"
   ]
  },
  {
   "cell_type": "code",
   "execution_count": 59,
   "metadata": {},
   "outputs": [
    {
     "name": "stdout",
     "output_type": "stream",
     "text": [
      "Brooklyn Nets wins 35.2 % of best-of-7 series\n",
      "Milwaukee Bucks wins 64.8 % of best-of-7 series\n",
      "\n",
      "The average series score is 4 to 2 \n",
      "\n",
      "Brooklyn Nets Average Score  117\n",
      "Milwaukee Bucks Average Score  118\n"
     ]
    }
   ],
   "source": [
    "PlayoffSeriesSim(\"Brooklyn Nets\", \"Milwaukee Bucks\", 1000)"
   ]
  },
  {
   "cell_type": "code",
   "execution_count": 60,
   "metadata": {},
   "outputs": [
    {
     "name": "stdout",
     "output_type": "stream",
     "text": [
      "Orlando Magic wins 56.6 % of best-of-7 series\n",
      "Indiana Pacers wins 43.4 % of best-of-7 series\n",
      "\n",
      "The average series score is 4 to 3 \n",
      "\n",
      "Orlando Magic Average Score  118\n",
      "Indiana Pacers Average Score  117\n"
     ]
    }
   ],
   "source": [
    "PlayoffSeriesSim(\"Orlando Magic\", \"Indiana Pacers\", 1000)"
   ]
  },
  {
   "cell_type": "code",
   "execution_count": 61,
   "metadata": {},
   "outputs": [
    {
     "name": "stdout",
     "output_type": "stream",
     "text": [
      "Philadelphia 76ers wins 72.2 % of best-of-7 series\n",
      "New York Knicks wins 27.8 % of best-of-7 series\n",
      "\n",
      "The average series score is 4 to 2 \n",
      "\n",
      "Philadelphia 76ers Average Score  116\n",
      "New York Knicks Average Score  114\n"
     ]
    }
   ],
   "source": [
    "PlayoffSeriesSim(\"Philadelphia 76ers\", \"New York Knicks\", 1000)"
   ]
  },
  {
   "cell_type": "markdown",
   "metadata": {},
   "source": [
    "### Eastern Conference Semi-finals"
   ]
  },
  {
   "attachments": {
    "image-7.png": {
     "image/png": "[encoded data removed]"
    }
   },
   "cell_type": "markdown",
   "metadata": {},
   "source": [
    "![image-7.png](attachment:image-7.png)"
   ]
  },
  {
   "cell_type": "code",
   "execution_count": 41,
   "metadata": {},
   "outputs": [
    {
     "name": "stdout",
     "output_type": "stream",
     "text": [
      "Boston Celtics wins 64.0 % of best-of-7 series\n",
      "Milwaukee Bucks wins 36.0 % of best-of-7 series\n",
      "\n",
      "The average series score is 4 to 2 \n",
      "\n",
      "Boston Celtics Average Score  117\n",
      "Milwaukee Bucks Average Score  116\n"
     ]
    }
   ],
   "source": [
    "PlayoffSeriesSim(\"Boston Celtics\",\"Milwaukee Bucks\", 1000)"
   ]
  },
  {
   "cell_type": "code",
   "execution_count": 42,
   "metadata": {},
   "outputs": [
    {
     "name": "stdout",
     "output_type": "stream",
     "text": [
      "Orlando Magic wins 29.0 % of best-of-7 series\n",
      "Philadelphia 76ers wins 71.0 % of best-of-7 series\n",
      "\n",
      "The average series score is 4 to 2 \n",
      "\n",
      "Orlando Magic Average Score  114\n",
      "Philadelphia 76ers Average Score  115\n"
     ]
    }
   ],
   "source": [
    "PlayoffSeriesSim(\"Orlando Magic\", \"Philadelphia 76ers\", 1000)"
   ]
  },
  {
   "cell_type": "markdown",
   "metadata": {},
   "source": [
    "The Milwaukee Bucks are eliminated in the Eastern Conference Semifinals"
   ]
  },
  {
   "cell_type": "markdown",
   "metadata": {},
   "source": [
    "### Eastern Conference Finals"
   ]
  },
  {
   "attachments": {
    "image-5.png": {
     "image/png": "[encoded data removed]"
    }
   },
   "cell_type": "markdown",
   "metadata": {},
   "source": [
    "![image-5.png](attachment:image-5.png)"
   ]
  },
  {
   "cell_type": "code",
   "execution_count": 43,
   "metadata": {},
   "outputs": [
    {
     "name": "stdout",
     "output_type": "stream",
     "text": [
      "Boston Celtics wins 44.3 % of best-of-7 series\n",
      "Philadelphia 76ers wins 55.7 % of best-of-7 series\n",
      "\n",
      "The average series score is 4 to 3 \n",
      "\n",
      "Boston Celtics Average Score  115\n",
      "Philadelphia 76ers Average Score  115\n"
     ]
    }
   ],
   "source": [
    "PlayoffSeriesSim(\"Boston Celtics\",\"Philadelphia 76ers\", 1000)"
   ]
  },
  {
   "cell_type": "markdown",
   "metadata": {},
   "source": [
    "### Western Conference First Round"
   ]
  },
  {
   "attachments": {
    "image-4.png": {
     "image/png": "[encoded data removed]"
    }
   },
   "cell_type": "markdown",
   "metadata": {},
   "source": [
    "![image-4.png](attachment:image-4.png)"
   ]
  },
  {
   "cell_type": "code",
   "execution_count": 44,
   "metadata": {},
   "outputs": [
    {
     "name": "stdout",
     "output_type": "stream",
     "text": [
      "Minnesota Timberwolves wins 65.0 % of best-of-7 series\n",
      "Phoenix Suns wins 35.0 % of best-of-7 series\n",
      "\n",
      "The average series score is 4 to 2 \n",
      "\n",
      "Minnesota Timberwolves Average Score  113\n",
      "Phoenix Suns Average Score  112\n"
     ]
    }
   ],
   "source": [
    "PlayoffSeriesSim(\"Minnesota Timberwolves\", \"Phoenix Suns\", 1000)"
   ]
  },
  {
   "cell_type": "code",
   "execution_count": 45,
   "metadata": {},
   "outputs": [
    {
     "name": "stdout",
     "output_type": "stream",
     "text": [
      "Denver Nuggets wins 42.5 % of best-of-7 series\n",
      "Houston Rockets wins 57.5 % of best-of-7 series\n",
      "\n",
      "The average series score is 4 to 3 \n",
      "\n",
      "Denver Nuggets Average Score  112\n",
      "Houston Rockets Average Score  112\n"
     ]
    }
   ],
   "source": [
    "PlayoffSeriesSim(\"Denver Nuggets\", \"Houston Rockets\", 1000)"
   ]
  },
  {
   "cell_type": "code",
   "execution_count": 46,
   "metadata": {},
   "outputs": [
    {
     "name": "stdout",
     "output_type": "stream",
     "text": [
      "Los Angeles Clippers wins 49.6 % of best-of-7 series\n",
      "Dallas Mavericks wins 50.4 % of best-of-7 series\n",
      "\n",
      "The average series score is 4 to 3 \n",
      "\n",
      "Los Angeles Clippers Average Score  115\n",
      "Dallas Mavericks Average Score  115\n"
     ]
    }
   ],
   "source": [
    "PlayoffSeriesSim(\"Los Angeles Clippers\", \"Dallas Mavericks\", 1000)"
   ]
  },
  {
   "cell_type": "code",
   "execution_count": 47,
   "metadata": {},
   "outputs": [
    {
     "name": "stdout",
     "output_type": "stream",
     "text": [
      "Oklahoma City Thunder wins 64.1 % of best-of-7 series\n",
      "Los Angeles Lakers wins 35.9 % of best-of-7 series\n",
      "\n",
      "The average series score is 4 to 2 \n",
      "\n",
      "Oklahoma City Thunder Average Score  116\n",
      "Los Angeles Lakers Average Score  114\n"
     ]
    }
   ],
   "source": [
    "PlayoffSeriesSim(\"Oklahoma City Thunder\", \"Los Angeles Lakers\", 1000)"
   ]
  },
  {
   "cell_type": "markdown",
   "metadata": {},
   "source": [
    "### Western Conference Semi-finals"
   ]
  },
  {
   "attachments": {
    "image-2.png": {
     "image/png": "[encoded data removed]"
    }
   },
   "cell_type": "markdown",
   "metadata": {},
   "source": [
    "![image-2.png](attachment:image-2.png)"
   ]
  },
  {
   "cell_type": "code",
   "execution_count": 48,
   "metadata": {},
   "outputs": [
    {
     "name": "stdout",
     "output_type": "stream",
     "text": [
      "Houston Rockets wins 29.0 % of best-of-7 series\n",
      "Minnesota Timberwolves wins 71.0 % of best-of-7 series\n",
      "\n",
      "The average series score is 4 to 2 \n",
      "\n",
      "Houston Rockets Average Score  110\n",
      "Minnesota Timberwolves Average Score  111\n"
     ]
    }
   ],
   "source": [
    "PlayoffSeriesSim(\"Houston Rockets\", \"Minnesota Timberwolves\", 1000)"
   ]
  },
  {
   "cell_type": "code",
   "execution_count": 49,
   "metadata": {},
   "outputs": [
    {
     "name": "stdout",
     "output_type": "stream",
     "text": [
      "Dallas Mavericks wins 31.1 % of best-of-7 series\n",
      "Oklahoma City Thunder wins 68.9 % of best-of-7 series\n",
      "\n",
      "The average series score is 4 to 2 \n",
      "\n",
      "Dallas Mavericks Average Score  116\n",
      "Oklahoma City Thunder Average Score  117\n"
     ]
    }
   ],
   "source": [
    "PlayoffSeriesSim(\"Dallas Mavericks\", \"Oklahoma City Thunder\", 1000)"
   ]
  },
  {
   "cell_type": "markdown",
   "metadata": {},
   "source": [
    "### Western Conference Finals"
   ]
  },
  {
   "attachments": {
    "image-2.png": {
     "image/png": "[encoded data removed]"
    }
   },
   "cell_type": "markdown",
   "metadata": {},
   "source": [
    "![image-2.png](attachment:image-2.png)"
   ]
  },
  {
   "cell_type": "code",
   "execution_count": 50,
   "metadata": {},
   "outputs": [
    {
     "name": "stdout",
     "output_type": "stream",
     "text": [
      "Oklahoma City Thunder wins 45.7 % of best-of-7 series\n",
      "Minnesota Timberwolves wins 54.3 % of best-of-7 series\n",
      "\n",
      "The average series score is 4 to 3 \n",
      "\n",
      "Oklahoma City Thunder Average Score  114\n",
      "Minnesota Timberwolves Average Score  113\n"
     ]
    }
   ],
   "source": [
    "PlayoffSeriesSim(\"Oklahoma City Thunder\", \"Minnesota Timberwolves\", 1000)"
   ]
  },
  {
   "cell_type": "markdown",
   "metadata": {},
   "source": [
    "### NBA Finals"
   ]
  },
  {
   "attachments": {
    "image-2.png": {
     "image/png": "[encoded data removed]"
    }
   },
   "cell_type": "markdown",
   "metadata": {},
   "source": [
    "![image-2.png](attachment:image-2.png)"
   ]
  },
  {
   "cell_type": "code",
   "execution_count": 51,
   "metadata": {},
   "outputs": [
    {
     "name": "stdout",
     "output_type": "stream",
     "text": [
      "Philadelphia 76ers wins 55.1 % of best-of-7 series\n",
      "Minnesota Timberwolves wins 44.9 % of best-of-7 series\n",
      "\n",
      "The average series score is 4 to 3 \n",
      "\n",
      "Philadelphia 76ers Average Score  114\n",
      "Minnesota Timberwolves Average Score  113\n"
     ]
    }
   ],
   "source": [
    "PlayoffSeriesSim(\"Philadelphia 76ers\",\"Minnesota Timberwolves\", 1000)"
   ]
  },
  {
   "cell_type": "markdown",
   "metadata": {},
   "source": [
    "## The Philadelphia 76ers win the NBA title"
   ]
  }
 ],
 "metadata": {
  "kernelspec": {
   "display_name": "Python 3",
   "language": "python",
   "name": "python3"
  },
  "language_info": {
   "codemirror_mode": {
    "name": "ipython",
    "version": 3
   },
   "file_extension": ".py",
   "mimetype": "text/x-python",
   "name": "python",
   "nbconvert_exporter": "python",
   "pygments_lexer": "ipython3",
   "version": "3.8.5"
  }
 },
 "nbformat": 4,
 "nbformat_minor": 4
}
